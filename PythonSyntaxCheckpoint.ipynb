{
  "nbformat": 4,
  "nbformat_minor": 0,
  "metadata": {
    "colab": {
      "provenance": [],
      "authorship_tag": "ABX9TyMiKdj54GgdsJ6XjVkwIl0I",
      "include_colab_link": true
    },
    "kernelspec": {
      "name": "python3",
      "display_name": "Python 3"
    },
    "language_info": {
      "name": "python"
    }
  },
  "cells": [
    {
      "cell_type": "markdown",
      "metadata": {
        "id": "view-in-github",
        "colab_type": "text"
      },
      "source": [
        "<a href=\"https://colab.research.google.com/github/collinscolour/GoMyCodeCheckPoint/blob/main/PythonSyntaxCheckpoint.ipynb\" target=\"_parent\"><img src=\"https://colab.research.google.com/assets/colab-badge.svg\" alt=\"Open In Colab\"/></a>"
      ]
    },
    {
      "cell_type": "code",
      "execution_count": 17,
      "metadata": {
        "id": "ay9C1Bd8k-qH",
        "colab": {
          "base_uri": "https://localhost:8080/"
        },
        "outputId": "a63549b8-4a58-4d88-9773-85343c63e391"
      },
      "outputs": [
        {
          "output_type": "stream",
          "name": "stdout",
          "text": [
            "Welcome to Python pizza deliveries; \n",
            " ENTER 1 FOR SMALL PIZZA \n",
            " ENTER 2 FOR MEDIUM PIZZA \n",
            " ENTER 3 FOR LARGE PIZZA\n",
            "what would you like to have ? 3\n",
            "do you want some pepperoni in your pizza; \n",
            " ENTER YES OR NO NO\n",
            "do you want extra cheese in your pizza; \n",
            " ENTER YES OR NO YES\n",
            "26\n"
          ]
        }
      ],
      "source": [
        "\n",
        "print(\"Welcome to Python pizza deliveries; \\n ENTER 1 FOR SMALL PIZZA \\n ENTER 2 FOR MEDIUM PIZZA \\n ENTER 3 FOR LARGE PIZZA\")\n",
        "\n",
        "# size = input(\"What size of pizza do you want \");\n",
        "# print(\"Thanks for selecting \" + size + \" pizza\")\n",
        "\n",
        "# add_pepperoni= input(\"do you want some pepperoni in your pizza \")\n",
        "# print(f\"I {add_pepperoni} some pepperoni in my pizza \")\n",
        "\n",
        "# extra_cheese= input(\"do you want extra cheese in your pizza \")\n",
        "# print(f\"I {extra_cheese} extra cheese in my pizza \")\n",
        "\n",
        "small_pizza = 15\n",
        "medium_pizza = 20\n",
        "lagre_pizza = 25\n",
        "pepper_small_pizza = 2\n",
        "pepper_big_pizza = 3\n",
        "cheese = 1\n",
        "\n",
        "user_order = int(input(\"what would you like to have ? \"))\n",
        "if user_order == 1:\n",
        "  add_pepperoni= input(\"do you want some pepperoni in your pizza; \\n ENTER YES OR NO \")\n",
        "  extra_cheese= input(\"do you want extra cheese in your pizza; \\n ENTER YES OR NO \")\n",
        "  if add_pepperoni == \"YES\" and extra_cheese == \"YES\":\n",
        "    small_pizza_amount = small_pizza + pepper_small_pizza + cheese\n",
        "  elif add_pepperoni == \"YES\" and extra_cheese == \"NO\":\n",
        "    small_pizza_amount = small_pizza + pepper_small_pizza\n",
        "  elif add_pepperoni == \"NO\" and extra_cheese == \"YES\":\n",
        "    small_pizza_amount = small_pizza + cheese\n",
        "  else:\n",
        "    small_pizza_amount = small_pizza\n",
        "  print(small_pizza_amount)\n",
        "\n",
        "elif user_order == 2:\n",
        "  add_pepperoni= input(\"do you want some pepperoni in your pizza; \\n ENTER YES OR NO \")\n",
        "  extra_cheese= input(\"do you want extra cheese in your pizza; \\n ENTER YES OR NO \")\n",
        "  if add_pepperoni == \"YES\" and extra_cheese == \"YES\":\n",
        "    medium_pizza_amount = medium_pizza + pepper_big_pizza + cheese\n",
        "  elif add_pepperoni == \"YES\" and extra_cheese == \"NO\":\n",
        "    medium_pizza_amount = medium_pizza + pepper_big_pizza\n",
        "  elif add_pepperoni == \"NO\" and extra_cheese == \"YES\":\n",
        "    medium_pizza_amount = medium_pizza + cheese\n",
        "  else:\n",
        "    medium_pizza_amount = medium_pizza\n",
        "  print(medium_pizza_amount)\n",
        "\n",
        "elif user_order == 3:\n",
        "  add_pepperoni= input(\"do you want some pepperoni in your pizza; \\n ENTER YES OR NO \")\n",
        "  extra_cheese= input(\"do you want extra cheese in your pizza; \\n ENTER YES OR NO \")\n",
        "  if add_pepperoni == \"YES\" and extra_cheese == \"YES\":\n",
        "    big_pizza_amount = lagre_pizza + pepper_big_pizza + cheese\n",
        "  elif add_pepperoni == \"YES\" and extra_cheese == \"NO\":\n",
        "    big_pizza_amount = lagre_pizza + pepper_big_pizza\n",
        "  elif add_pepperoni == \"NO\" and extra_cheese == \"YES\":\n",
        "    big_pizza_amount = lagre_pizza + cheese\n",
        "  else:\n",
        "    big_pizza_amount = lagre_pizza\n",
        "  print(big_pizza_amount)\n",
        "\n",
        "else:\n",
        "  print(\"incorrect input\")"
      ]
    },
    {
      "cell_type": "code",
      "source": [
        "3\n"
      ],
      "metadata": {
        "id": "0Abtujwqqdn-"
      },
      "execution_count": null,
      "outputs": []
    }
  ]
}