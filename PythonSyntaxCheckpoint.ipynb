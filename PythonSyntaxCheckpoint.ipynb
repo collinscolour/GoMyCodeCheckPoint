{
  "nbformat": 4,
  "nbformat_minor": 0,
  "metadata": {
    "colab": {
      "provenance": [],
      "authorship_tag": "ABX9TyOAdMaljD9De6dTBAW5w0HL",
      "include_colab_link": true
    },
    "kernelspec": {
      "name": "python3",
      "display_name": "Python 3"
    },
    "language_info": {
      "name": "python"
    }
  },
  "cells": [
    {
      "cell_type": "markdown",
      "metadata": {
        "id": "view-in-github",
        "colab_type": "text"
      },
      "source": [
        "<a href=\"https://colab.research.google.com/github/collinscolour/GoMyCodeCheckPoint/blob/main/PythonSyntaxCheckpoint.ipynb\" target=\"_parent\"><img src=\"https://colab.research.google.com/assets/colab-badge.svg\" alt=\"Open In Colab\"/></a>"
      ]
    },
    {
      "cell_type": "code",
      "execution_count": null,
      "metadata": {
        "colab": {
          "base_uri": "https://localhost:8080/"
        },
        "id": "ay9C1Bd8k-qH",
        "outputId": "a45ad431-e382-4e2a-db16-91b903c3de07"
      },
      "outputs": [
        {
          "output_type": "stream",
          "name": "stdout",
          "text": [
            "Welcome to Python pizza deliveries\n",
            "What size of pizza do you wantsmall\n",
            "Thanks for selecting small pizza\n",
            "do you want some pepperoni in your pizzawant\n",
            "I want some pepperoni in my pizza \n",
            "do you want extra cheese in your pizzadont want \n",
            "I dont want  extra cheese in my pizza\n"
          ]
        }
      ],
      "source": [
        "\n",
        "print(\"Welcome to Python pizza deliveries\")\n",
        "\n",
        "size = input(\"What size of pizza do you want \");\n",
        "print(\"Thanks for selecting \" + size + \" pizza\")\n",
        "\n",
        "add_pepperoni= input(\"do you want some pepperoni in your pizza \")\n",
        "print(f\"I {add_pepperoni} some pepperoni in my pizza \")\n",
        "\n",
        "extra_cheese= input(\"do you want extra cheese in your pizza \")\n",
        "print(f\"I {extra_cheese} extra cheese in my pizza \")"
      ]
    },
    {
      "cell_type": "code",
      "source": [],
      "metadata": {
        "id": "0Abtujwqqdn-"
      },
      "execution_count": null,
      "outputs": []
    }
  ]
}