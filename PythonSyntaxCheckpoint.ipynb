{
  "nbformat": 4,
  "nbformat_minor": 0,
  "metadata": {
    "colab": {
      "provenance": [],
      "authorship_tag": "ABX9TyMVXIWEg/IgfNFC0yEOWx8h",
      "include_colab_link": true
    },
    "kernelspec": {
      "name": "python3",
      "display_name": "Python 3"
    },
    "language_info": {
      "name": "python"
    }
  },
  "cells": [
    {
      "cell_type": "markdown",
      "metadata": {
        "id": "view-in-github",
        "colab_type": "text"
      },
      "source": [
        "<a href=\"https://colab.research.google.com/github/collinscolour/GoMyCodeCheckPoint/blob/main/PythonSyntaxCheckpoint.ipynb\" target=\"_parent\"><img src=\"https://colab.research.google.com/assets/colab-badge.svg\" alt=\"Open In Colab\"/></a>"
      ]
    },
    {
      "cell_type": "markdown",
      "source": [
        "Congratulations, you've got a job at Python Pizza. Your first job is to build an automatic pizza order program. Based on a user's order, work out their final bill.\n",
        "\n",
        " ``` Small Pizza: $15 ``` ```\n",
        "\n",
        "``` Medium Pizza: $20 ```\n",
        "\n",
        "``` Large Pizza: $25 ```\n",
        "\n",
        "If they want to add pepperoni :\n",
        "\n",
        "``` Pepperoni for Small Pizza: +$2 ```\n",
        "\n",
        "``` Pepperoni for Medium or Large Pizza: +$3 ```\n",
        "\n",
        "If they want cheese :\n",
        "\n",
        " ``` Extra cheese for any size pizza: + $1 ```\n",
        "\n",
        "Instructions\n",
        "Open a new file in your Python development environment or IDE.\n",
        "Begin by typing the line 'Welcome to Python Pizza Deliveries' which will display a welcome message when the code is run.\n",
        "Add a line that prompts the user for the size of the pizza they want using the input() function and stores the user's input in a variable named 'size'.\n",
        "Add a line that prompts the user if they want pepperoni on their pizza using the input() function and stores the user's input in a variable named 'add_pepperoni'.\n",
        "Add a line that prompts the user if they want extra cheese on their pizza using the input() function and stores the user's input in a variable named 'extra_cheese'.\n",
        "Check your code for any syntax errors or mistakes.\n",
        "Run the code and test it by providing inputs for size, pepperoni, and extra cheese.\n",
        "Example Input\n",
        "\n",
        "size = \"L\"\n",
        "\n",
        "add_pepperoni = \"Y\"\n",
        "\n",
        "extra_cheese = \"N\"\n",
        "\n",
        "Example Output\n",
        "\n",
        "Your final bill is: $28.\n",
        "\n",
        "When you hit **run**, this is what should happen\n",
        "\n",
        "Evaluation Specifics\n",
        "\n",
        "Your instructor will evaluate your checkpoint based on the criterias mentioned below. All criteria are rated from 0 to 5\n",
        "\n",
        " Checkpoint Criteria\n",
        "\n",
        "Student should ensure that the program correctly calculates the final bill based on the user's input for pizza size, pepperoni, and extra cheese.\n",
        "Student should use appropriate control structures like if/else statements to minimize the number of calculations required.\n",
        "Student should use appropriate error messages and control structures like try/except blocks to handle potential errors."
      ],
      "metadata": {
        "id": "E26d0_XeXINm"
      }
    },
    {
      "cell_type": "code",
      "execution_count": 3,
      "metadata": {
        "id": "ay9C1Bd8k-qH",
        "colab": {
          "base_uri": "https://localhost:8080/"
        },
        "outputId": "03929965-3e85-4fde-b87e-d8d887a3ea4c"
      },
      "outputs": [
        {
          "output_type": "stream",
          "name": "stdout",
          "text": [
            "Welcome to Python pizza deliveries; \n",
            " ENTER 1 FOR SMALL PIZZA \n",
            " ENTER 2 FOR MEDIUM PIZZA \n",
            " ENTER 3 FOR LARGE PIZZA\n",
            "what would you like to have ? 1\n",
            "do you want some pepperoni in your pizza; \n",
            " ENTER YES OR NO NO\n",
            "do you want extra cheese in your pizza; \n",
            " ENTER YES OR NO YES\n",
            "Your final bill is:  16\n"
          ]
        }
      ],
      "source": [
        "\n",
        "print(\"Welcome to Python pizza deliveries; \\n ENTER 1 FOR SMALL PIZZA \\n ENTER 2 FOR MEDIUM PIZZA \\n ENTER 3 FOR LARGE PIZZA\")\n",
        "\n",
        "# size = input(\"What size of pizza do you want \");\n",
        "# print(\"Thanks for selecting \" + size + \" pizza\")\n",
        "\n",
        "# add_pepperoni= input(\"do you want some pepperoni in your pizza \")\n",
        "# print(f\"I {add_pepperoni} some pepperoni in my pizza \")\n",
        "\n",
        "# extra_cheese= input(\"do you want extra cheese in your pizza \")\n",
        "# print(f\"I {extra_cheese} extra cheese in my pizza \")\n",
        "\n",
        "small_pizza = 15\n",
        "medium_pizza = 20\n",
        "lagre_pizza = 25\n",
        "pepper_small_pizza = 2\n",
        "pepper_big_pizza = 3\n",
        "cheese = 1\n",
        "\n",
        "user_order = int(input(\"what would you like to have ? \"))\n",
        "if user_order == 1:\n",
        "  add_pepperoni= input(\"do you want some pepperoni in your pizza; \\n ENTER YES OR NO \")\n",
        "  extra_cheese= input(\"do you want extra cheese in your pizza; \\n ENTER YES OR NO \")\n",
        "  if add_pepperoni == \"YES\" and extra_cheese == \"YES\":\n",
        "    small_pizza_amount = small_pizza + pepper_small_pizza + cheese\n",
        "  elif add_pepperoni == \"YES\" and extra_cheese == \"NO\":\n",
        "    small_pizza_amount = small_pizza + pepper_small_pizza\n",
        "  elif add_pepperoni == \"NO\" and extra_cheese == \"YES\":\n",
        "    small_pizza_amount = small_pizza + cheese\n",
        "  else:\n",
        "    small_pizza_amount = small_pizza\n",
        "  print(\"Your final bill is: \", small_pizza_amount)\n",
        "\n",
        "elif user_order == 2:\n",
        "  add_pepperoni= input(\"do you want some pepperoni in your pizza; \\n ENTER YES OR NO \")\n",
        "  extra_cheese= input(\"do you want extra cheese in your pizza; \\n ENTER YES OR NO \")\n",
        "  if add_pepperoni == \"YES\" and extra_cheese == \"YES\":\n",
        "    medium_pizza_amount = medium_pizza + pepper_big_pizza + cheese\n",
        "  elif add_pepperoni == \"YES\" and extra_cheese == \"NO\":\n",
        "    medium_pizza_amount = medium_pizza + pepper_big_pizza\n",
        "  elif add_pepperoni == \"NO\" and extra_cheese == \"YES\":\n",
        "    medium_pizza_amount = medium_pizza + cheese\n",
        "  else:\n",
        "    medium_pizza_amount = medium_pizza\n",
        "  print(\"Your final bill is: \",medium_pizza_amount)\n",
        "\n",
        "elif user_order == 3:\n",
        "  add_pepperoni= input(\"do you want some pepperoni in your pizza; \\n ENTER YES OR NO \")\n",
        "  extra_cheese= input(\"do you want extra cheese in your pizza; \\n ENTER YES OR NO \")\n",
        "  if add_pepperoni == \"YES\" and extra_cheese == \"YES\":\n",
        "    big_pizza_amount = lagre_pizza + pepper_big_pizza + cheese\n",
        "  elif add_pepperoni == \"YES\" and extra_cheese == \"NO\":\n",
        "    big_pizza_amount = lagre_pizza + pepper_big_pizza\n",
        "  elif add_pepperoni == \"NO\" and extra_cheese == \"YES\":\n",
        "    big_pizza_amount = lagre_pizza + cheese\n",
        "  else:\n",
        "    big_pizza_amount = lagre_pizza\n",
        "  print(\"Your final bill is: \",big_pizza_amount)\n",
        "\n",
        "else:\n",
        "  print(\"incorrect input\")"
      ]
    },
    {
      "cell_type": "markdown",
      "source": [],
      "metadata": {
        "id": "en4JMsXhXFKA"
      }
    },
    {
      "cell_type": "code",
      "source": [],
      "metadata": {
        "id": "fJ3Qly8oMaON"
      },
      "execution_count": null,
      "outputs": []
    },
    {
      "cell_type": "code",
      "source": [
        "3\n"
      ],
      "metadata": {
        "id": "0Abtujwqqdn-"
      },
      "execution_count": null,
      "outputs": []
    }
  ]
}