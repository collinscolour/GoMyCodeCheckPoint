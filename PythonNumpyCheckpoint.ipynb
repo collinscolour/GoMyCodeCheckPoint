{
  "nbformat": 4,
  "nbformat_minor": 0,
  "metadata": {
    "colab": {
      "provenance": [],
      "authorship_tag": "ABX9TyMq/N2QyY/BO5pqzmXPU2uY",
      "include_colab_link": true
    },
    "kernelspec": {
      "name": "python3",
      "display_name": "Python 3"
    },
    "language_info": {
      "name": "python"
    }
  },
  "cells": [
    {
      "cell_type": "markdown",
      "metadata": {
        "id": "view-in-github",
        "colab_type": "text"
      },
      "source": [
        "<a href=\"https://colab.research.google.com/github/collinscolour/GoMyCodeCheckPoint/blob/main/PythonNumpyCheckpoint.ipynb\" target=\"_parent\"><img src=\"https://colab.research.google.com/assets/colab-badge.svg\" alt=\"Open In Colab\"/></a>"
      ]
    },
    {
      "cell_type": "markdown",
      "source": [
        "Checkpoint Objective\n",
        "Create a numpy array called \"grades\" that contains the following grades: [85, 90, 88, 92, 95, 80, 75, 98, 89, 83]\n",
        "\n",
        "Instructions\n",
        "Create a new file called \"grades_analysis.py\"\n",
        "Import the numpy library and create the \"grades\" array as specified above.\n",
        "Use numpy functions to calculate the mean, median, and standard deviation of the grades.\n",
        "Use numpy function to find the maximum and minimum of the grades.\n",
        "Use numpy function to sort the grades in ascending order.\n",
        "Use numpy function to find the index of the highest grade in the array.\n",
        "Use numpy function to count the number of students who scored above 90.\n",
        "Use numpy function to calculate the percentage of students who scored above 90.\n",
        "Use numpy function to calculate the percentage of students who scored below 75.\n",
        "Use numpy function to extract all the grades above 90 and put them in a new array called \"high_performers\".\n",
        "Create a new array called \"passing_grades\" that contains all the grades above 75.\n",
        "Print the result of all the above steps.\n",
        "Note:\n",
        "\n",
        "to calculate percentage use numpy.mean(grades > 90) * 100\n",
        "to extract the grades above 90 use grades[grades > 90]\n",
        "to extract the grades above 75 use grades[grades > 75]\n",
        "You can use other numpy functions as well to analyze the data as you want. The above steps are just examples of what can be done."
      ],
      "metadata": {
        "id": "ybcLMOrSZ0X5"
      }
    },
    {
      "cell_type": "code",
      "execution_count": 1,
      "metadata": {
        "colab": {
          "base_uri": "https://localhost:8080/"
        },
        "id": "YXBq55otZx6w",
        "outputId": "7e786edc-20f8-4cc8-bbb7-638fc36e7ac5"
      },
      "outputs": [
        {
          "output_type": "stream",
          "name": "stdout",
          "text": [
            "The mean of the grades is: 87.5\n",
            "The median of the grades is: 88.5\n",
            "The standard deviation of the grades is: 6.591661399070799\n",
            "The maximum grade is: 98\n",
            "The minimum grade is: 75\n",
            "The sorted grades in ascending order are: [75 80 83 85 88 89 90 92 95 98]\n",
            "The index of the highest grade in the array is: 7\n",
            "The number of students who scored above 90 is: 3\n",
            "The percentage of students who scored above 90 is: 30.0\n",
            "The percentage of students who scored below 75 is: 0.0\n",
            "The grades above 90 are: [92 95 98]\n",
            "The passing grades are: [85 90 88 92 95 80 98 89 83]\n"
          ]
        }
      ],
      "source": [
        "import numpy as np\n",
        "\n",
        "# Create the \"grades\" array\n",
        "grades = np.array([85, 90, 88, 92, 95, 80, 75, 98, 89, 83])\n",
        "\n",
        "# Calculate the mean of the grades\n",
        "mean = np.mean(grades)\n",
        "\n",
        "# Calculate the median of the grades\n",
        "median = np.median(grades)\n",
        "\n",
        "# Calculate the standard deviation of the grades\n",
        "std = np.std(grades)\n",
        "\n",
        "# Find the maximum and minimum of the grades\n",
        "max_grade = np.max(grades)\n",
        "min_grade = np.min(grades)\n",
        "\n",
        "# Sort the grades in ascending order\n",
        "sorted_grades = np.sort(grades)\n",
        "\n",
        "# Find the index of the highest grade in the array\n",
        "highest_grade_index = np.where(grades == max_grade)[0][0]\n",
        "\n",
        "# Count the number of students who scored above 90\n",
        "students_above_90 = np.count_nonzero(grades > 90)\n",
        "\n",
        "# Calculate the percentage of students who scored above 90\n",
        "percentage_above_90 = np.mean(grades > 90) * 100\n",
        "\n",
        "# Calculate the percentage of students who scored below 75\n",
        "percentage_below_75 = np.mean(grades < 75) * 100\n",
        "\n",
        "# Extract all the grades above 90 and put them in a new array called \"high_performers\"\n",
        "high_performers = grades[grades > 90]\n",
        "\n",
        "# Create a new array called \"passing_grades\" that contains all the grades above 75\n",
        "passing_grades = grades[grades > 75]\n",
        "\n",
        "# Print the results\n",
        "print(\"The mean of the grades is:\", mean)\n",
        "print(\"The median of the grades is:\", median)\n",
        "print(\"The standard deviation of the grades is:\", std)\n",
        "print(\"The maximum grade is:\", max_grade)\n",
        "print(\"The minimum grade is:\", min_grade)\n",
        "print(\"The sorted grades in ascending order are:\", sorted_grades)\n",
        "print(\"The index of the highest grade in the array is:\", highest_grade_index)\n",
        "print(\"The number of students who scored above 90 is:\", students_above_90)\n",
        "print(\"The percentage of students who scored above 90 is:\", percentage_above_90)\n",
        "print(\"The percentage of students who scored below 75 is:\", percentage_below_75)\n",
        "print(\"The grades above 90 are:\", high_performers)\n",
        "print(\"The passing grades are:\", passing_grades)"
      ]
    }
  ]
}