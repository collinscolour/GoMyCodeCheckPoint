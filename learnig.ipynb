{
  "nbformat": 4,
  "nbformat_minor": 0,
  "metadata": {
    "colab": {
      "provenance": [],
      "authorship_tag": "ABX9TyP1F87nGWRgHqW9g6DNJtyc",
      "include_colab_link": true
    },
    "kernelspec": {
      "name": "python3",
      "display_name": "Python 3"
    },
    "language_info": {
      "name": "python"
    }
  },
  "cells": [
    {
      "cell_type": "markdown",
      "metadata": {
        "id": "view-in-github",
        "colab_type": "text"
      },
      "source": [
        "<a href=\"https://colab.research.google.com/github/collinscolour/GoMyCodeCheckPoint/blob/main/learnig.ipynb\" target=\"_parent\"><img src=\"https://colab.research.google.com/assets/colab-badge.svg\" alt=\"Open In Colab\"/></a>"
      ]
    },
    {
      "cell_type": "code",
      "execution_count": null,
      "metadata": {
        "colab": {
          "base_uri": "https://localhost:8080/"
        },
        "id": "BIAoSnUTI6EE",
        "outputId": "f25973f8-f887-4450-f586-5970d85241f4"
      },
      "outputs": [
        {
          "output_type": "stream",
          "name": "stdout",
          "text": [
            "a 1\n",
            "b 1\n",
            "b 2\n",
            "c 1\n",
            "c 2\n",
            "a 2\n",
            "b 1\n",
            "b 2\n",
            "c 1\n",
            "c 2\n"
          ]
        }
      ],
      "source": [
        "for i in range(1,3):\n",
        "  print(\"a\",i)\n",
        "  for x in range(1,3):\n",
        "    print(\"b\",x)\n",
        "  for y in range(1,3):\n",
        "    print(\"c\",y)"
      ]
    },
    {
      "cell_type": "code",
      "source": [],
      "metadata": {
        "id": "r0myJq-iuIX-"
      },
      "execution_count": null,
      "outputs": []
    },
    {
      "cell_type": "code",
      "source": [
        "def x():\n",
        "  for i in range(1,11,2):\n",
        "    print(i)\n",
        "x()"
      ],
      "metadata": {
        "colab": {
          "base_uri": "https://localhost:8080/"
        },
        "id": "dFsGemjVHLpF",
        "outputId": "212e40cf-698d-4441-c771-d39423da58d3"
      },
      "execution_count": null,
      "outputs": [
        {
          "output_type": "stream",
          "name": "stdout",
          "text": [
            "1\n",
            "3\n",
            "5\n",
            "7\n",
            "9\n"
          ]
        }
      ]
    },
    {
      "cell_type": "code",
      "source": [
        "print('welcome')\n",
        "x= input('what city did you grow up ?')\n",
        "y= input('what the name of your pet ?')\n",
        "i = x + y\n",
        "print (i)\n",
        "print(x + \"\\n\" +y)"
      ],
      "metadata": {
        "colab": {
          "base_uri": "https://localhost:8080/"
        },
        "id": "gz7LnLOPT9CO",
        "outputId": "a5270648-948a-4f0c-fe00-86ae46f7c1a6"
      },
      "execution_count": null,
      "outputs": [
        {
          "output_type": "stream",
          "name": "stdout",
          "text": [
            "welcome\n",
            "what city did you grow up ?hj\n",
            "what the name of your pet ?jj\n",
            "hjjj\n",
            "hj\n",
            "jj\n"
          ]
        }
      ]
    },
    {
      "cell_type": "code",
      "source": [
        "x= input('ist number ? ')\n",
        "a= int(x[0])\n",
        "b= int(x[1])\n",
        "c= int(x[2])\n",
        "i =  a + b + c\n",
        "print(i)"
      ],
      "metadata": {
        "colab": {
          "base_uri": "https://localhost:8080/"
        },
        "id": "OIX3isaWnCa2",
        "outputId": "994e728c-385d-440d-a8ba-b96c535d8767"
      },
      "execution_count": null,
      "outputs": [
        {
          "output_type": "stream",
          "name": "stdout",
          "text": [
            "ist number ? 222\n",
            "6\n"
          ]
        }
      ]
    },
    {
      "cell_type": "code",
      "source": [
        "my_list = [['python', 'java'],['sql', 'r'], ['sas', 'c++'], ['php', 'html']]\n",
        "\n",
        "print(my_list[2][1][1:])"
      ],
      "metadata": {
        "colab": {
          "base_uri": "https://localhost:8080/"
        },
        "id": "oGr6-g1NieP9",
        "outputId": "9d740122-b57a-4bef-a166-20670980810a"
      },
      "execution_count": null,
      "outputs": [
        {
          "output_type": "stream",
          "name": "stdout",
          "text": [
            "++\n"
          ]
        }
      ]
    },
    {
      "cell_type": "code",
      "source": [
        "my_list = [['python', 'java'],['sql', 'r'], ['sas', 'c++'], ['php', 'html']]\n",
        "my_list0 = my_list[2]\n",
        "print(my_list0)\n",
        "my_list1 = my_list0[1]\n",
        "print(my_list1)\n",
        "my_list2= my_list1[-2:]\n",
        "print(my_list2)"
      ],
      "metadata": {
        "colab": {
          "base_uri": "https://localhost:8080/"
        },
        "id": "bQNDG2GWjJPw",
        "outputId": "f26fe9cd-70c5-4d93-d336-b9cced11990f"
      },
      "execution_count": null,
      "outputs": [
        {
          "output_type": "stream",
          "name": "stdout",
          "text": [
            "['sas', 'c++']\n",
            "c++\n",
            "++\n"
          ]
        }
      ]
    },
    {
      "cell_type": "code",
      "source": [
        "my_list = [['python', 'java'],['sql', 'r'], ['sas', 'c++'], ['php', 'html']]\n",
        "print(my_list[3][1][-3:-1])\n",
        "print(my_list[3][1][1:3])"
      ],
      "metadata": {
        "colab": {
          "base_uri": "https://localhost:8080/"
        },
        "id": "OppIFZgSng62",
        "outputId": "4d28b2c8-ac82-4a54-dce8-a612d08cf934"
      },
      "execution_count": null,
      "outputs": [
        {
          "output_type": "stream",
          "name": "stdout",
          "text": [
            "tm\n",
            "tm\n"
          ]
        }
      ]
    },
    {
      "cell_type": "code",
      "source": [
        "def a():\n",
        "  lis = [3,4,3,6]\n",
        "  return sum(set(lis))\n",
        "a()"
      ],
      "metadata": {
        "colab": {
          "base_uri": "https://localhost:8080/"
        },
        "id": "r9hDczPBzDdi",
        "outputId": "db7aef43-2aef-4eb7-d14b-0fcaf13ae311"
      },
      "execution_count": null,
      "outputs": [
        {
          "output_type": "execute_result",
          "data": {
            "text/plain": [
              "13"
            ]
          },
          "metadata": {},
          "execution_count": 26
        }
      ]
    },
    {
      "cell_type": "code",
      "source": [
        "x =0\n",
        "for i in range(2,11,2):\n",
        "  print(i)"
      ],
      "metadata": {
        "id": "FEl72M-6GJk0"
      },
      "execution_count": null,
      "outputs": []
    },
    {
      "cell_type": "code",
      "source": [
        "x= lambda a,b,c : a+b+c\n",
        "print(x(2,4,1))"
      ],
      "metadata": {
        "id": "LQpFfZue0Oz3",
        "colab": {
          "base_uri": "https://localhost:8080/"
        },
        "outputId": "9b7d1d86-d485-4a24-f33f-adc69dd8c449"
      },
      "execution_count": null,
      "outputs": [
        {
          "output_type": "stream",
          "name": "stdout",
          "text": [
            "7\n"
          ]
        }
      ]
    },
    {
      "cell_type": "code",
      "source": [
        "years= lambda ch : ch[:4]\n",
        "ch = '20200310'\n",
        "print(years(ch))"
      ],
      "metadata": {
        "colab": {
          "base_uri": "https://localhost:8080/"
        },
        "id": "3yyZaqBFucAt",
        "outputId": "3a9d67c7-d896-430c-d9b3-1c684e22745a"
      },
      "execution_count": null,
      "outputs": [
        {
          "output_type": "stream",
          "name": "stdout",
          "text": [
            "2020\n"
          ]
        }
      ]
    },
    {
      "cell_type": "code",
      "source": [
        "i= lambda doublenumber : doublenumber*doublenumber\n",
        "doublenumber= 5\n",
        "print(i(doublenumber))"
      ],
      "metadata": {
        "colab": {
          "base_uri": "https://localhost:8080/"
        },
        "id": "DvOFkc_30eEQ",
        "outputId": "c0a9b68d-4e25-4947-abad-0f1cc28899ad"
      },
      "execution_count": null,
      "outputs": [
        {
          "output_type": "stream",
          "name": "stdout",
          "text": [
            "25\n"
          ]
        }
      ]
    },
    {
      "cell_type": "code",
      "source": [
        "i= lambda doublenumber : doublenumber*doublenumber\n",
        "doublenumber= int(input(\"enter number\"))\n",
        "print(i(doublenumber))"
      ],
      "metadata": {
        "colab": {
          "base_uri": "https://localhost:8080/"
        },
        "id": "Ib25KxD913h_",
        "outputId": "b146b0e5-2275-431c-bdf9-7c70ce207321"
      },
      "execution_count": null,
      "outputs": [
        {
          "output_type": "stream",
          "name": "stdout",
          "text": [
            "enter number3\n",
            "9\n"
          ]
        }
      ]
    },
    {
      "cell_type": "code",
      "source": [
        "number = [1,2,3,4,5]\n",
        "i= map(lambda doublenumber : doublenumber*doublenumber, number)\n",
        "\n",
        "i = list(i)\n",
        "print(i)\n",
        "print(type(i))\n",
        "\n",
        "a=set(i)\n",
        "print(type(a))\n",
        "print(a)"
      ],
      "metadata": {
        "colab": {
          "base_uri": "https://localhost:8080/"
        },
        "id": "mzm79WHf28Wa",
        "outputId": "127157cc-f670-4844-8f27-0bd0b3417062"
      },
      "execution_count": null,
      "outputs": [
        {
          "output_type": "stream",
          "name": "stdout",
          "text": [
            "[1, 4, 9, 16, 25]\n",
            "<class 'list'>\n",
            "<class 'set'>\n",
            "{1, 4, 9, 16, 25}\n"
          ]
        }
      ]
    },
    {
      "cell_type": "code",
      "source": [
        "liste=[22, 16.5, 18]\n",
        "i = lambda d : (9 / 5)*d + 32\n",
        "y = map(i , liste)\n",
        "print(list(y))\n"
      ],
      "metadata": {
        "colab": {
          "base_uri": "https://localhost:8080/"
        },
        "id": "uUKClBZl45KF",
        "outputId": "a3b77117-61cb-48e9-c7af-a5e360676a12"
      },
      "execution_count": null,
      "outputs": [
        {
          "output_type": "stream",
          "name": "stdout",
          "text": [
            "[71.6, 61.7, 64.4]\n"
          ]
        }
      ]
    },
    {
      "cell_type": "code",
      "source": [
        "class Student:\n",
        "  def __init__(self, fname, lname, school_name):\n",
        "    self.fname= fname\n",
        "    self.lname= lname\n",
        "    self.school_name= school_name\n",
        "    self.email= lname + '_' + fname + '@' + school_name +'.com'\n",
        "\n",
        "  def students(self):\n",
        "    return f'{self.fname}'\n",
        "\n",
        "\n",
        "\n",
        "stud_1 = Student('chuma', 'collins', 'GoMyCode')\n",
        "stud_2 = Student('lee', 'jack', 'GoMyCode')\n",
        "stud_3 = Student('121', 'badoo', 'GoMyCode')\n",
        "\n",
        "print(stud_1)\n",
        "print(stud_2.email)\n",
        "print(stud_3.email)\n",
        "\n",
        "stud_1.students()\n"
      ],
      "metadata": {
        "colab": {
          "base_uri": "https://localhost:8080/",
          "height": 87
        },
        "id": "A9ivcKexAuHZ",
        "outputId": "25bf56a8-3488-435d-dac9-ec32559b56a1"
      },
      "execution_count": null,
      "outputs": [
        {
          "output_type": "stream",
          "name": "stdout",
          "text": [
            "<__main__.Student object at 0x79e2e174dc90>\n",
            "jack_lee@GoMyCode.com\n",
            "badoo_121@GoMyCode.com\n"
          ]
        },
        {
          "output_type": "execute_result",
          "data": {
            "text/plain": [
              "'chuma'"
            ],
            "application/vnd.google.colaboratory.intrinsic+json": {
              "type": "string"
            }
          },
          "metadata": {},
          "execution_count": 43
        }
      ]
    },
    {
      "cell_type": "markdown",
      "source": [
        "using class variable"
      ],
      "metadata": {
        "id": "Zzk0l3JYRU3v"
      }
    },
    {
      "cell_type": "code",
      "source": [
        "class Student:\n",
        "  fees_raise = 1.05\n",
        "  num_of_student = 0\n",
        "\n",
        "  def __init__(self, fname, lname, school_name, school_fees):\n",
        "    self.fname= fname\n",
        "    self.lname= lname\n",
        "    self.school_name= school_name\n",
        "    self.school_fees = school_fees\n",
        "    self.email= lname + '_' + fname + '@' + school_name +'.com'\n",
        "\n",
        "    Student.num_of_student += 1\n",
        "\n",
        "\n",
        "  def students(self):\n",
        "    return f'{self.fname}'\n",
        "\n",
        "\n",
        "  def students_attendance(self):\n",
        "    return f'{self.fname, self.email}'\n",
        "\n",
        "  def students_fees_raise(self):\n",
        "    fees_raise = int(self.school_fees * self.fees_raise)\n",
        "    return fees_raise\n",
        "\n",
        "\n",
        "\n",
        "\n",
        "stud_1 = Student('chuma', 'collins', 'GoMyCode', 2000)\n",
        "stud_2 = Student('lee', 'jack', 'GoMyCode', 4000)\n",
        "stud_3 = Student('121', 'badoo', 'GoMyCode', 7000)\n",
        "\n",
        "print(stud_3.students_fees_raise())\n",
        "print (Student.students_fees_raise(stud_2))\n",
        "print (Student.num_of_student)\n",
        "\n",
        "\n",
        "\n"
      ],
      "metadata": {
        "colab": {
          "base_uri": "https://localhost:8080/"
        },
        "id": "wpz3MLa2NL2o",
        "outputId": "7f5e977d-7da8-457d-a989-449aa458c722"
      },
      "execution_count": null,
      "outputs": [
        {
          "output_type": "stream",
          "name": "stdout",
          "text": [
            "7350\n",
            "4200\n",
            "3\n"
          ]
        }
      ]
    },
    {
      "cell_type": "code",
      "source": [
        "\n",
        "class Student:\n",
        "  fees_raise = 1.05\n",
        "  num_of_student = 0\n",
        "\n",
        "  def __init__(self, fname, lname, school_name, school_fees):\n",
        "    self.fname= fname\n",
        "    self.lname= lname\n",
        "    self.school_name= school_name\n",
        "    self.school_fees = school_fees\n",
        "    self.email= lname + '_' + fname + '@' + school_name +'.com'\n",
        "\n",
        "    Student.num_of_student += 1\n",
        "\n",
        "\n",
        "  def students(self):\n",
        "    return f'{self.fname}'\n",
        "\n",
        "\n",
        "  def students_attendance(self):\n",
        "    return f'{self.fname, self.email}'\n",
        "\n",
        "  def students_fees_raise(self):\n",
        "    fees_raise = int(self.school_fees * self.fees_raise)\n",
        "    return fees_raise\n",
        "\n",
        "class Teachers(Student):\n",
        "  fees_raise= 1.10\n",
        "\n",
        "  def __init__(self, fname, lname, school_name, school_fees, post):\n",
        "    super().__init__( fname, lname, school_name, school_fees)\n",
        "    self.post = post\n",
        "  #bn\n",
        "\n",
        "stud_1 = Student('chuma', 'collins', 'GoMyCode', 2000)\n",
        "stud_2 = Student('lee', 'jack', 'GoMyCode', 4000)\n",
        "stud_3 = Student('121', 'badoo', 'GoMyCode', 7000)\n",
        "\n",
        "\n",
        "print(stud_3.students_fees_raise())\n",
        "# print(stud_3.students_fees_raise())\n",
        "# print (Student.students_fees_raise(stud_2))\n",
        "# print (Student.num_of_student)\n",
        "\n"
      ],
      "metadata": {
        "colab": {
          "base_uri": "https://localhost:8080/"
        },
        "id": "UePSfI1afLjA",
        "outputId": "93d4bbf9-7e8f-44b6-a15b-73af76023d2e"
      },
      "execution_count": null,
      "outputs": [
        {
          "output_type": "stream",
          "name": "stdout",
          "text": [
            "7350\n"
          ]
        }
      ]
    },
    {
      "cell_type": "code",
      "source": [
        "class Student:\n",
        "  fees_raise = 1.05\n",
        "  num_of_student = 0\n",
        "\n",
        "  def __init__(self, fname, lname, school_name, school_fees):\n",
        "    self.fname= fname\n",
        "    self.lname= lname\n",
        "    self.school_name= school_name\n",
        "    self.school_fees = school_fees\n",
        "    self.fullname = fname + ' ' +lname\n",
        "    self.email= lname + '_' + fname + '@' + school_name +'.com'\n",
        "\n",
        "    Student.num_of_student += 1\n",
        "\n",
        "\n",
        "  def students(self):\n",
        "    return f'{self.fullname}'\n",
        "\n",
        "\n",
        "  def students_attendance(self):\n",
        "    return f'{self.fname, self.email}'\n",
        "\n",
        "  def students_fees_raise(self):\n",
        "    fees_raise = int(self.school_fees * self.fees_raise)\n",
        "    return fees_raise\n",
        "\n",
        "class Teachers(Student):\n",
        "  fees_raise= 1.10\n",
        "\n",
        "  def __init__(self, fname, lname, school_name, school_fees, post):\n",
        "    super().__init__( fname, lname, school_name, school_fees)\n",
        "    self.post = post\n",
        "\n",
        "class Manager(Student):\n",
        "  def __init__(self, fname, lname, school_name, school_fees, people=None):\n",
        "    super().__init__( fname, lname, school_name, school_fees)\n",
        "    if people == None:\n",
        "      people = []\n",
        "    else:\n",
        "      self.people= people\n",
        "\n",
        "  def add_person(self, person):\n",
        "    if person != self.people:\n",
        "      self.people.append(person)\n",
        "\n",
        "  def remove_person(self, person):\n",
        "    if person == self.people:\n",
        "      self.people.remove(person)\n",
        "\n",
        "  def list_person(self):\n",
        "    for peo in self.people:\n",
        "      print(peo.students())\n",
        "\n",
        "\n",
        "\n",
        "\n",
        "stud_1 = Student('chuma', 'collins', 'GoMyCode', 2000)\n",
        "stud_2 = Student('lee', 'jack', 'GoMyCode', 4000)\n",
        "stud_3 = Student('121', 'badoo', 'GoMyCode', 7000)\n",
        "\n",
        "manage = Manager('lee', 'jack', 'GoMyCode', 4000, [stud_1, stud_2])\n",
        "\n",
        "\n",
        "print(manage.list_person())\n",
        "\n"
      ],
      "metadata": {
        "id": "R_77y-QMLSFV",
        "colab": {
          "base_uri": "https://localhost:8080/"
        },
        "outputId": "565a0411-29ed-4693-de00-8f86ed57763d"
      },
      "execution_count": null,
      "outputs": [
        {
          "output_type": "stream",
          "name": "stdout",
          "text": [
            "chuma collins\n",
            "lee jack\n",
            "None\n"
          ]
        }
      ]
    },
    {
      "cell_type": "code",
      "source": [
        "s=0\n",
        "for i in range(1,11):\n",
        "  print(\"no\", i)\n",
        "  s= s+i\n",
        "  print(s)\n",
        "print(s)\n"
      ],
      "metadata": {
        "id": "Bgdeyp4Oqma8",
        "colab": {
          "base_uri": "https://localhost:8080/"
        },
        "outputId": "43cfc98a-9991-4026-fd7d-043adbc2f1ab"
      },
      "execution_count": 3,
      "outputs": [
        {
          "output_type": "stream",
          "name": "stdout",
          "text": [
            "no 1\n",
            "1\n",
            "no 2\n",
            "3\n",
            "no 3\n",
            "6\n",
            "no 4\n",
            "10\n",
            "no 5\n",
            "15\n",
            "no 6\n",
            "21\n",
            "no 7\n",
            "28\n",
            "no 8\n",
            "36\n",
            "no 9\n",
            "45\n",
            "no 10\n",
            "55\n",
            "55\n"
          ]
        }
      ]
    },
    {
      "cell_type": "code",
      "source": [
        "sum(range(1,11))"
      ],
      "metadata": {
        "colab": {
          "base_uri": "https://localhost:8080/"
        },
        "id": "eQk9n7lP7CoP",
        "outputId": "be32a735-5922-4af0-f704-aac9554d5c0a"
      },
      "execution_count": 2,
      "outputs": [
        {
          "output_type": "execute_result",
          "data": {
            "text/plain": [
              "55"
            ]
          },
          "metadata": {},
          "execution_count": 2
        }
      ]
    },
    {
      "cell_type": "code",
      "source": [
        "x= 12\n",
        "x /= 2\n",
        "print(x)\n",
        "\n",
        "x= 12\n",
        "x /= 2\n",
        "print(int(x))\n",
        "\n",
        "x= 12\n",
        "x //= 2\n",
        "print(x)\n",
        "\n",
        "x= 12\n",
        "x += 2\n",
        "print(x)\n",
        "\n",
        "x= 12\n",
        "x *= 2\n",
        "print(x)\n",
        "\n",
        "x= 12\n",
        "x -= 2\n",
        "print(x)\n"
      ],
      "metadata": {
        "colab": {
          "base_uri": "https://localhost:8080/"
        },
        "id": "BDDJGriy7K_D",
        "outputId": "fda056eb-236e-425a-b821-2558bc070a6e"
      },
      "execution_count": 1,
      "outputs": [
        {
          "output_type": "stream",
          "name": "stdout",
          "text": [
            "6.0\n",
            "6\n",
            "6\n",
            "14\n",
            "24\n",
            "10\n"
          ]
        }
      ]
    },
    {
      "cell_type": "code",
      "source": [
        "x= input('whats your age?')\n",
        "y= 90 - int(x)\n",
        "days= 365 * y\n",
        "weeks= 52 * y\n",
        "months = 12 * y\n",
        "print(f\"you have {days} days, {weeks} weeks, and {months} months left\")"
      ],
      "metadata": {
        "colab": {
          "base_uri": "https://localhost:8080/"
        },
        "id": "AUEDQJ777L8h",
        "outputId": "685f3273-e983-4693-c61b-c740d0beed50"
      },
      "execution_count": 4,
      "outputs": [
        {
          "output_type": "stream",
          "name": "stdout",
          "text": [
            "whats your age?55\n",
            "you have 12775 days, 1820 weeks, and 420 months left\n"
          ]
        }
      ]
    },
    {
      "cell_type": "code",
      "source": [],
      "metadata": {
        "id": "M9o2qfth7RwW"
      },
      "execution_count": null,
      "outputs": []
    }
  ]
}