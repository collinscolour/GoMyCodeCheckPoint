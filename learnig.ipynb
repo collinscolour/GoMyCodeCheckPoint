{
  "nbformat": 4,
  "nbformat_minor": 0,
  "metadata": {
    "colab": {
      "provenance": [],
      "authorship_tag": "ABX9TyOwvmbdzn9c8wWk9GQwn1Q8",
      "include_colab_link": true
    },
    "kernelspec": {
      "name": "python3",
      "display_name": "Python 3"
    },
    "language_info": {
      "name": "python"
    }
  },
  "cells": [
    {
      "cell_type": "markdown",
      "metadata": {
        "id": "view-in-github",
        "colab_type": "text"
      },
      "source": [
        "<a href=\"https://colab.research.google.com/github/collinscolour/GoMyCodeCheckPoint/blob/main/learnig.ipynb\" target=\"_parent\"><img src=\"https://colab.research.google.com/assets/colab-badge.svg\" alt=\"Open In Colab\"/></a>"
      ]
    },
    {
      "cell_type": "code",
      "execution_count": null,
      "metadata": {
        "colab": {
          "base_uri": "https://localhost:8080/"
        },
        "id": "BIAoSnUTI6EE",
        "outputId": "f25973f8-f887-4450-f586-5970d85241f4"
      },
      "outputs": [
        {
          "output_type": "stream",
          "name": "stdout",
          "text": [
            "a 1\n",
            "b 1\n",
            "b 2\n",
            "c 1\n",
            "c 2\n",
            "a 2\n",
            "b 1\n",
            "b 2\n",
            "c 1\n",
            "c 2\n"
          ]
        }
      ],
      "source": [
        "for i in range(1,3):\n",
        "  print(\"a\",i)\n",
        "  for x in range(1,3):\n",
        "    print(\"b\",x)\n",
        "  for y in range(1,3):\n",
        "    print(\"c\",y)"
      ]
    },
    {
      "cell_type": "code",
      "source": [],
      "metadata": {
        "id": "r0myJq-iuIX-"
      },
      "execution_count": null,
      "outputs": []
    },
    {
      "cell_type": "code",
      "source": [
        "def x():\n",
        "  for i in range(1,11,2):\n",
        "    print(i)\n",
        "x()"
      ],
      "metadata": {
        "colab": {
          "base_uri": "https://localhost:8080/"
        },
        "id": "dFsGemjVHLpF",
        "outputId": "212e40cf-698d-4441-c771-d39423da58d3"
      },
      "execution_count": null,
      "outputs": [
        {
          "output_type": "stream",
          "name": "stdout",
          "text": [
            "1\n",
            "3\n",
            "5\n",
            "7\n",
            "9\n"
          ]
        }
      ]
    },
    {
      "cell_type": "code",
      "source": [
        "print('welcome')\n",
        "x= input('what city did you grow up ?')\n",
        "y= input('what the name of your pet ?')\n",
        "i = x + y\n",
        "print (i)\n",
        "print(x + \"\\n\" +y)"
      ],
      "metadata": {
        "colab": {
          "base_uri": "https://localhost:8080/"
        },
        "id": "gz7LnLOPT9CO",
        "outputId": "a5270648-948a-4f0c-fe00-86ae46f7c1a6"
      },
      "execution_count": null,
      "outputs": [
        {
          "output_type": "stream",
          "name": "stdout",
          "text": [
            "welcome\n",
            "what city did you grow up ?hj\n",
            "what the name of your pet ?jj\n",
            "hjjj\n",
            "hj\n",
            "jj\n"
          ]
        }
      ]
    },
    {
      "cell_type": "code",
      "source": [
        "x= input('ist number ? ')\n",
        "a= int(x[0])\n",
        "b= int(x[1])\n",
        "c= int(x[2])\n",
        "i =  a + b + c\n",
        "print(i)"
      ],
      "metadata": {
        "colab": {
          "base_uri": "https://localhost:8080/"
        },
        "id": "OIX3isaWnCa2",
        "outputId": "994e728c-385d-440d-a8ba-b96c535d8767"
      },
      "execution_count": null,
      "outputs": [
        {
          "output_type": "stream",
          "name": "stdout",
          "text": [
            "ist number ? 222\n",
            "6\n"
          ]
        }
      ]
    },
    {
      "cell_type": "code",
      "source": [
        "my_list = [['python', 'java'],['sql', 'r'], ['sas', 'c++'], ['php', 'html']]\n",
        "\n",
        "print(my_list[2][1][1:])"
      ],
      "metadata": {
        "colab": {
          "base_uri": "https://localhost:8080/"
        },
        "id": "oGr6-g1NieP9",
        "outputId": "9d740122-b57a-4bef-a166-20670980810a"
      },
      "execution_count": null,
      "outputs": [
        {
          "output_type": "stream",
          "name": "stdout",
          "text": [
            "++\n"
          ]
        }
      ]
    },
    {
      "cell_type": "code",
      "source": [
        "my_list = [['python', 'java'],['sql', 'r'], ['sas', 'c++'], ['php', 'html']]\n",
        "my_list0 = my_list[2]\n",
        "print(my_list0)\n",
        "my_list1 = my_list0[1]\n",
        "print(my_list1)\n",
        "my_list2= my_list1[-2:]\n",
        "print(my_list2)"
      ],
      "metadata": {
        "colab": {
          "base_uri": "https://localhost:8080/"
        },
        "id": "bQNDG2GWjJPw",
        "outputId": "f26fe9cd-70c5-4d93-d336-b9cced11990f"
      },
      "execution_count": null,
      "outputs": [
        {
          "output_type": "stream",
          "name": "stdout",
          "text": [
            "['sas', 'c++']\n",
            "c++\n",
            "++\n"
          ]
        }
      ]
    },
    {
      "cell_type": "code",
      "source": [
        "my_list = [['python', 'java'],['sql', 'r'], ['sas', 'c++'], ['php', 'html']]\n",
        "print(my_list[3][1][-3:-1])\n",
        "print(my_list[3][1][1:3])"
      ],
      "metadata": {
        "colab": {
          "base_uri": "https://localhost:8080/"
        },
        "id": "OppIFZgSng62",
        "outputId": "4d28b2c8-ac82-4a54-dce8-a612d08cf934"
      },
      "execution_count": null,
      "outputs": [
        {
          "output_type": "stream",
          "name": "stdout",
          "text": [
            "tm\n",
            "tm\n"
          ]
        }
      ]
    },
    {
      "cell_type": "code",
      "source": [
        "def a():\n",
        "  lis = [3,4,3,6]\n",
        "  return sum(set(lis))\n",
        "a()"
      ],
      "metadata": {
        "colab": {
          "base_uri": "https://localhost:8080/"
        },
        "id": "r9hDczPBzDdi",
        "outputId": "db7aef43-2aef-4eb7-d14b-0fcaf13ae311"
      },
      "execution_count": null,
      "outputs": [
        {
          "output_type": "execute_result",
          "data": {
            "text/plain": [
              "13"
            ]
          },
          "metadata": {},
          "execution_count": 26
        }
      ]
    },
    {
      "cell_type": "code",
      "source": [
        "x =0\n",
        "for i in range(2,11,2):\n",
        "  print(i)"
      ],
      "metadata": {
        "id": "FEl72M-6GJk0"
      },
      "execution_count": null,
      "outputs": []
    },
    {
      "cell_type": "code",
      "source": [
        "x= lambda a,b,c : a+b+c\n",
        "print(x(2,4,1))"
      ],
      "metadata": {
        "id": "LQpFfZue0Oz3",
        "colab": {
          "base_uri": "https://localhost:8080/"
        },
        "outputId": "9b7d1d86-d485-4a24-f33f-adc69dd8c449"
      },
      "execution_count": null,
      "outputs": [
        {
          "output_type": "stream",
          "name": "stdout",
          "text": [
            "7\n"
          ]
        }
      ]
    },
    {
      "cell_type": "code",
      "source": [
        "years= lambda ch : ch[:4]\n",
        "ch = '20200310'\n",
        "print(years(ch))"
      ],
      "metadata": {
        "colab": {
          "base_uri": "https://localhost:8080/"
        },
        "id": "3yyZaqBFucAt",
        "outputId": "3a9d67c7-d896-430c-d9b3-1c684e22745a"
      },
      "execution_count": null,
      "outputs": [
        {
          "output_type": "stream",
          "name": "stdout",
          "text": [
            "2020\n"
          ]
        }
      ]
    },
    {
      "cell_type": "code",
      "source": [
        "i= lambda doublenumber : doublenumber*doublenumber\n",
        "doublenumber= 5\n",
        "print(i(doublenumber))"
      ],
      "metadata": {
        "colab": {
          "base_uri": "https://localhost:8080/"
        },
        "id": "DvOFkc_30eEQ",
        "outputId": "c0a9b68d-4e25-4947-abad-0f1cc28899ad"
      },
      "execution_count": null,
      "outputs": [
        {
          "output_type": "stream",
          "name": "stdout",
          "text": [
            "25\n"
          ]
        }
      ]
    },
    {
      "cell_type": "code",
      "source": [
        "i= lambda doublenumber : doublenumber*doublenumber\n",
        "doublenumber= int(input(\"enter number\"))\n",
        "print(i(doublenumber))"
      ],
      "metadata": {
        "colab": {
          "base_uri": "https://localhost:8080/"
        },
        "id": "Ib25KxD913h_",
        "outputId": "b146b0e5-2275-431c-bdf9-7c70ce207321"
      },
      "execution_count": null,
      "outputs": [
        {
          "output_type": "stream",
          "name": "stdout",
          "text": [
            "enter number3\n",
            "9\n"
          ]
        }
      ]
    },
    {
      "cell_type": "code",
      "source": [
        "number = [1,2,3,4,5]\n",
        "i= map(lambda doublenumber : doublenumber*doublenumber, number)\n",
        "print(list(i))\n",
        "print(i)"
      ],
      "metadata": {
        "colab": {
          "base_uri": "https://localhost:8080/"
        },
        "id": "mzm79WHf28Wa",
        "outputId": "6a8c0e8b-6179-40b8-ca88-617125223cdc"
      },
      "execution_count": null,
      "outputs": [
        {
          "output_type": "stream",
          "name": "stdout",
          "text": [
            "[1, 4, 9, 16, 25]\n",
            "<map object at 0x7c99e11d6800>\n"
          ]
        }
      ]
    },
    {
      "cell_type": "code",
      "source": [
        "liste=[22, 16.5, 18]\n",
        "i = lambda d : (9 / 5)*d + 32\n",
        "y = map(i , liste)\n",
        "print(list(y))\n"
      ],
      "metadata": {
        "colab": {
          "base_uri": "https://localhost:8080/"
        },
        "id": "uUKClBZl45KF",
        "outputId": "a3b77117-61cb-48e9-c7af-a5e360676a12"
      },
      "execution_count": null,
      "outputs": [
        {
          "output_type": "stream",
          "name": "stdout",
          "text": [
            "[71.6, 61.7, 64.4]\n"
          ]
        }
      ]
    }
  ]
}