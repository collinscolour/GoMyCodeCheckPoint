{
  "nbformat": 4,
  "nbformat_minor": 0,
  "metadata": {
    "colab": {
      "provenance": [],
      "authorship_tag": "ABX9TyN5zdT4IQ8ePRQ4c33PKOWg",
      "include_colab_link": true
    },
    "kernelspec": {
      "name": "python3",
      "display_name": "Python 3"
    },
    "language_info": {
      "name": "python"
    }
  },
  "cells": [
    {
      "cell_type": "markdown",
      "metadata": {
        "id": "view-in-github",
        "colab_type": "text"
      },
      "source": [
        "<a href=\"https://colab.research.google.com/github/collinscolour/GoMyCodeCheckPoint/blob/main/UnsupervisedLearningClustering_.ipynb\" target=\"_parent\"><img src=\"https://colab.research.google.com/assets/colab-badge.svg\" alt=\"Open In Colab\"/></a>"
      ]
    },
    {
      "cell_type": "code",
      "execution_count": null,
      "metadata": {
        "id": "ORxtEIlyxOLG"
      },
      "outputs": [],
      "source": [
        "import pandas as pd\n",
        "\n",
        "data = pd.read_csv(\"Credit_card_dataset.csv\")\n",
        "\n",
        "print(data.head())\n",
        "print(data.describe())\n",
        "\n",
        "print(data.isnull().sum())"
      ]
    },
    {
      "cell_type": "markdown",
      "source": [
        "In this checkpoint, we are going to work on the 'Credit Card Dataset for Clustering' dataset provided by Kaggle.\n",
        "\n",
        "Dataset description : This dataset was derived and simplified for learning purposes. It includes usage behaviour of about 9000 active credit card holders during 6 months period. This case requires to develop a customer segmentation to define marketing strategy.\n",
        "\n",
        "➡️ Dataset link\n",
        "\n",
        "\n",
        "Columns explanation :\n",
        "\n",
        "CUST_ID: Identification of Credit Card holder (Categorical)\n",
        "BALANCE_FREQUENCY: How frequently the Balance is updated, score between 0 and 1 (1 = frequently updated, 0 = not frequently updated)\n",
        "PURCHASES: Amount of purchases made from account\n",
        "CASH_ADVANCE: Cash in advance given by the user\n",
        "CREDIT_LIMIT: Limit of Credit Card for user\n",
        "PAYMENTS: Amount of Payment done by user\n",
        "Instructions\n",
        "Import you data and perform basic data exploration phase\n",
        "Perform the necessary data preparation steps ( Corrupted and missing values handling, data encoding, outliers handling ... )\n",
        "Perform hierarchical clustering to identify the inherent groupings within your data. Then, plot the clusters. (use only 2 features. For example, try to cluster the customer base with respect to 'PURCHASES' and 'credit limit')\n",
        "Perform partitional clustering using the K-means algorithm. Then, plot the clusters\n",
        "Find the best k value and plot the clusters again.\n",
        "Interpret the results"
      ],
      "metadata": {
        "id": "eDXWHvNHxiYd"
      }
    },
    {
      "cell_type": "code",
      "source": [],
      "metadata": {
        "id": "-VSZsGMUxkLG"
      },
      "execution_count": null,
      "outputs": []
    },
    {
      "cell_type": "code",
      "source": [],
      "metadata": {
        "id": "YuV87hsTxh_v"
      },
      "execution_count": null,
      "outputs": []
    },
    {
      "cell_type": "code",
      "source": [
        "data.dropna(inplace=True)\n",
        "\n",
        "from sklearn.preprocessing import StandardScaler\n",
        "scaler = StandardScaler()\n",
        "scaled_features = scaler.fit_transform(data[[\"PURCHASES\", \"CREDIT_LIMIT\"]])\n",
        "\n",
        "from sklearn.preprocessing import LabelEncoder\n",
        "\n",
        "encoder = LabelEncoder()\n",
        "data[\"CUST_ID\"] = encoder.fit_transform(data[\"CUST_ID\"])"
      ],
      "metadata": {
        "id": "zWNW35Y9xS8C"
      },
      "execution_count": null,
      "outputs": []
    },
    {
      "cell_type": "code",
      "source": [
        "from scipy.cluster.hierarchy import dendrogram, linkage\n",
        "import matplotlib.pyplot as plt\n",
        "\n",
        "# Linkage matrix\n",
        "linked = linkage(scaled_features, method=\"ward\")\n",
        "\n",
        "# Dendrogram visualization\n",
        "plt.figure(figsize=(10, 7))\n",
        "dendrogram(linked, orientation=\"top\")\n",
        "plt.show()"
      ],
      "metadata": {
        "id": "FMdA4Te7xVYq"
      },
      "execution_count": null,
      "outputs": []
    }
  ]
}