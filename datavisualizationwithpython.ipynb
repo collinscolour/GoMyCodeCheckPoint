{
  "nbformat": 4,
  "nbformat_minor": 0,
  "metadata": {
    "colab": {
      "provenance": [],
      "authorship_tag": "ABX9TyN9xUlnFf5mV6P2FWplqBoM",
      "include_colab_link": true
    },
    "kernelspec": {
      "name": "python3",
      "display_name": "Python 3"
    },
    "language_info": {
      "name": "python"
    }
  },
  "cells": [
    {
      "cell_type": "markdown",
      "metadata": {
        "id": "view-in-github",
        "colab_type": "text"
      },
      "source": [
        "<a href=\"https://colab.research.google.com/github/collinscolour/GoMyCodeCheckPoint/blob/main/datavisualizationwithpython.ipynb\" target=\"_parent\"><img src=\"https://colab.research.google.com/assets/colab-badge.svg\" alt=\"Open In Colab\"/></a>"
      ]
    },
    {
      "cell_type": "markdown",
      "source": [
        "Checkpoint Objective\n",
        "In this checkpoint, we are going to work on the 'Climate change in Africa' dataset that was provided by the U.S global change research program.\n",
        "\n",
        "Dataset description : This dataset contains historical data about the daily min, max and average temperature fluctuation in 5 African countries (Egypt, Tunisia, Cameroon, Senegal, Angola) between 1980 and 2023.\n",
        "\n",
        "➡️ Dataset link\n",
        "\n",
        "\n",
        "Instructions\n",
        "Load the dataset into a data frame using Python.\n",
        "\n",
        "\n",
        "Clean the data as needed.\n",
        "\n",
        "\n",
        "Plot a line chart to show the average temperature fluctuations in Tunisia and Cameroon. Interpret the results.\n",
        "\n",
        "\n",
        "Zoom in to only include data between 1980 and 2005, try to customize the axes labels.\n",
        "\n",
        "\n",
        "Create Histograms to show temperature distribution in Senegal between [1980,2000] and [2000,2023] (in the same figure). Describe the obtained results.\n",
        "\n",
        "\n",
        "Select the best chart to show the Average temperature per country.\n",
        "Make your own questions about the dataset and try to answer them using the appropriate visuals."
      ],
      "metadata": {
        "id": "xHwyNpQpE2Uu"
      }
    },
    {
      "cell_type": "code",
      "execution_count": null,
      "metadata": {
        "id": "skR1x2rADezt"
      },
      "outputs": [],
      "source": [
        "!pip install plotly"
      ]
    }
  ]
}