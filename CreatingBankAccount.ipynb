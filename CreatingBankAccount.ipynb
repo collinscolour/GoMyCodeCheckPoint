{
  "nbformat": 4,
  "nbformat_minor": 0,
  "metadata": {
    "colab": {
      "provenance": [],
      "authorship_tag": "ABX9TyOS7Hu1JX+X4nhzy+eUdWdz",
      "include_colab_link": true
    },
    "kernelspec": {
      "name": "python3",
      "display_name": "Python 3"
    },
    "language_info": {
      "name": "python"
    }
  },
  "cells": [
    {
      "cell_type": "markdown",
      "metadata": {
        "id": "view-in-github",
        "colab_type": "text"
      },
      "source": [
        "<a href=\"https://colab.research.google.com/github/collinscolour/GoMyCodeCheckPoint/blob/main/CreatingBankAccount.ipynb\" target=\"_parent\"><img src=\"https://colab.research.google.com/assets/colab-badge.svg\" alt=\"Open In Colab\"/></a>"
      ]
    },
    {
      "cell_type": "markdown",
      "source": [
        "Create a class called \"Account\" that has the following attributes:\n",
        "\n",
        "account_number (string)\n",
        "account_balance (float)\n",
        "account_holder (string)\n",
        "The class should have the following methods:\n",
        "\n",
        "deposit(amount: float) - This method should add the amount passed as an argument to the account balance.\n",
        "withdraw(amount: float) - This method should subtract the amount passed as an argument from the account balance, but only if the account balance is greater than the amount being withdrawn.\n",
        "check_balance() - This method should return the current account balance.\n",
        "\n",
        "\n",
        "\n",
        "Instructions\n",
        "Create a new file called \"bank_account.py\"\n",
        "Define the Account class and its attributes as specified above.\n",
        "Define the deposit() method. It should take in one argument, the amount to be deposited, and add it to the account balance.\n",
        "Define the withdraw() method. It should take in one argument, the amount to be withdrawn, and subtract it from the account balance. The method should only execute the withdrawal if the account balance is greater than or equal to the amount to be withdrawn.\n",
        "Define the check_balance() method. It should return the current account balance.\n",
        "Create an instance of the Account class, and assign it to a variable called \"my_account\".\n",
        "Use the methods of the class to deposit and withdraw money from the account, and check the account balance.\n",
        "Test the program by creating multiple instances of the class and performing different transactions on them."
      ],
      "metadata": {
        "id": "_0n5uMtwesxd"
      }
    },
    {
      "cell_type": "code",
      "execution_count": null,
      "metadata": {
        "id": "Bxaq43xaeWT1",
        "colab": {
          "base_uri": "https://localhost:8080/"
        },
        "outputId": "982357ed-1b57-4330-eb60-d71b8cb5e30a"
      },
      "outputs": [
        {
          "output_type": "stream",
          "name": "stdout",
          "text": [
            "Hello lee : Account balance after deposit: 7000\n",
            "Hello  lee : Account balance after withdrawal: 6800\n"
          ]
        }
      ],
      "source": [
        "#Creating Account class\n",
        "class Account:\n",
        "  def __init__(self, account_number, account_balance, account_holder):\n",
        "    self.account_number = account_number\n",
        "    self.account_balance = account_balance\n",
        "    self.account_holder = account_holder\n",
        "\n",
        "#creating the deposit method\n",
        "  def deposit(self, amt):\n",
        "    self.account_balance += amt\n",
        "\n",
        "#creating the withdraw method\n",
        "  def withdraw(self, amt):\n",
        "    if self.account_balance >= amt:\n",
        "      self.account_balance -= amt\n",
        "\n",
        "#creating the check_balance method\n",
        "  def check_balance(self):\n",
        "    return self.account_balance\n",
        "\n",
        "#creaing a personal account\n",
        "my_acc = Account(\"12345\", 2000, \"lee\")\n",
        "\n",
        "#depositing into the personal acoount created above\n",
        "my_acc.deposit(5000)\n",
        "print(\"Hello\", my_acc.account_holder, \": Account balance after deposit:\", my_acc.check_balance())\n",
        "\n",
        "\n",
        "#withdrawing from the personal account created above\n",
        "my_acc.withdraw(200)\n",
        "print(\"Hello \", my_acc.account_holder, \": Account balance after withdrawal:\", my_acc.check_balance())"
      ]
    }
  ]
}