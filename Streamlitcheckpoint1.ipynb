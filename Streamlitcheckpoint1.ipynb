{
  "nbformat": 4,
  "nbformat_minor": 0,
  "metadata": {
    "colab": {
      "provenance": [],
      "authorship_tag": "ABX9TyPR5Ori4K3rorhvVfVCsuy5",
      "include_colab_link": true
    },
    "kernelspec": {
      "name": "python3",
      "display_name": "Python 3"
    },
    "language_info": {
      "name": "python"
    }
  },
  "cells": [
    {
      "cell_type": "markdown",
      "metadata": {
        "id": "view-in-github",
        "colab_type": "text"
      },
      "source": [
        "<a href=\"https://colab.research.google.com/github/collinscolour/GoMyCodeCheckPoint/blob/main/Streamlitcheckpoint1.ipynb\" target=\"_parent\"><img src=\"https://colab.research.google.com/assets/colab-badge.svg\" alt=\"Open In Colab\"/></a>"
      ]
    },
    {
      "cell_type": "markdown",
      "source": [
        "In this checkpoint, we are going to work on the 'Expresso churn' dataset that was provided as part of Expresso Churn Prediction Challenge hosted by Zindi platform.\n",
        "\n",
        "Dataset description: Expresso is an African telecommunications services company that provides telecommunication services in two African markets: Mauritania and Senegal. The data describes 2.5 million Expresso clients with more than 15 behaviour variables in order to predict the clients' churn probability.\n",
        "\n",
        "➡️ Dataset link\n",
        "\n",
        "\n",
        "➡️ Columns explanation\n",
        "\n",
        "\n",
        "\n",
        "Instructions\n",
        "Install the necessary packages\n",
        "Import you data and perform basic data exploration phase\n",
        "Display general information about the dataset\n",
        "Create a pandas profiling reports to gain insights into the dataset\n",
        "Handle Missing and corrupted values\n",
        "Remove duplicates, if they exist\n",
        "Handle outliers, if they exist\n",
        "Encode categorical features\n",
        "Based on the previous data exploration train and test a machine learning classifier\n",
        "Create a streamlit application (locally)\n",
        "Add input fields for your features and a validation button at the end of the form\n",
        "Import your ML model into the streamlit application and start making predictions given the provided features values\n",
        "Note:\n",
        "\n",
        "This checkpoint should be done locally, (Google colab notebooks won't work)\n",
        "Make sure to run the app using the \"streamlit run\" command in your terminal.\n",
        ""
      ],
      "metadata": {
        "id": "sSXKnumDG01w"
      }
    },
    {
      "cell_type": "code",
      "execution_count": null,
      "metadata": {
        "id": "GZae3O2WGzUc"
      },
      "outputs": [],
      "source": []
    }
  ]
}