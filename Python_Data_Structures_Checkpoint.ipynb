{
  "nbformat": 4,
  "nbformat_minor": 0,
  "metadata": {
    "colab": {
      "provenance": [],
      "authorship_tag": "ABX9TyPolXkw0p9ov0swm8Aai/hf",
      "include_colab_link": true
    },
    "kernelspec": {
      "name": "python3",
      "display_name": "Python 3"
    },
    "language_info": {
      "name": "python"
    }
  },
  "cells": [
    {
      "cell_type": "markdown",
      "metadata": {
        "id": "view-in-github",
        "colab_type": "text"
      },
      "source": [
        "<a href=\"https://colab.research.google.com/github/collinscolour/GoMyCodeCheckPoint/blob/main/Python_Data_Structures_Checkpoint.ipynb\" target=\"_parent\"><img src=\"https://colab.research.google.com/assets/colab-badge.svg\" alt=\"Open In Colab\"/></a>"
      ]
    },
    {
      "cell_type": "markdown",
      "source": [
        "Create a program that allows the user to manage their shopping list. The user should be able to add items to the list, remove items, and view the current list of items.\n",
        "\n",
        "Instructions\n",
        "Statement:\n",
        "\n",
        "Create a list to store the shopping items\n",
        "Use a while loop to create a menu of options for the user to add, remove, or view items from the list\n",
        "Use a for loop to iterate through the list of items and display them to the user\n",
        "Use the range() function to limit the number of items that can be added to the list\n",
        "Use the list, tuple, set, and dictionary data structures to store and manipulate the shopping items\n",
        "Instructions:\n",
        "\n",
        "Create a list named 'shopping_list' to store the items.\n",
        "Use a while loop to create a menu of options for the user to add, remove, or view items from the list.\n",
        "Use the input() function to prompt the user to make a selection from the menu.\n",
        "Use an if-elif-else block to determine the user's selection and perform the corresponding action.\n",
        "If the user selects 'add', use the input() function to prompt the user to enter an item to add to the list. Use the range() function to limit the number of items that can be added to the list.\n",
        "If the user selects 'remove', use the input() function to prompt the user to enter an item to remove from the list.\n",
        "If the user selects 'view', use a for loop to iterate through the list of items and display them to the user.\n",
        "Use the list, tuple, set, and dictionary data structures to store and manipulate the shopping items.\n",
        "Evaluation Specifics\n",
        "\n",
        "Your instructor will evaluate your checkpoint based on the criterias mentioned below. All criteria are rated from 0 to 5\n",
        "\n",
        " Checkpoint Criteria\n",
        "\n",
        "Student should allow the user to add items to the shopping list, remove items from the list, and view the current list of items\n",
        "Student should use appropriate data structures like list, tuple, set, and dictionary to store and manipulate the shopping items.\n",
        "he code should be well-organized and structured, with clear variable names, comments to make it easy to read and understan"
      ],
      "metadata": {
        "id": "O8vmNbP0jmJV"
      }
    },
    {
      "cell_type": "code",
      "execution_count": null,
      "metadata": {
        "id": "GFP1fefm4SRu"
      },
      "outputs": [],
      "source": [
        "shopping_list= []\n",
        "while True:\n",
        "  # ask the user to enter a mean\n",
        "  menu = input(\"Enter your menu: \")\n",
        "  #check availability of the menu entered\n",
        "  if menu == 'add':\n",
        "    # range function to control the number of time the user input\n",
        "    for i in range(3):\n",
        "      new_item= input('enter item you want to add : ')\n",
        "      #add inputted item in the list\n",
        "      shopping_list.append(new_item)\n",
        "      print(shopping_list)\n",
        "\n",
        "  #check availability of the menu entered\n",
        "  elif menu == 'remove':\n",
        "    remove_item= input('enter item you want to remove : ')\n",
        "    #remove inputted item in the list\n",
        "    shopping_list.remove(remove_item)\n",
        "\n",
        "  #check availability of the menu entered\n",
        "  elif menu == 'items':\n",
        "    #display item in the list\n",
        "    print (shopping_list)\n",
        "\n",
        "\n",
        "\n",
        "  else:\n",
        "    # option are only 1, 2 and 3. anything else would result as incorrect\n",
        "    print('incorrect word input ')\n",
        "    #to stop and then contiune\n",
        "    break\n",
        "print(shopping_list)\n",
        "\n",
        "# check for the length of the list\n",
        "print(len(shopping_list))\n",
        "\n",
        "#converting the list to a set\n",
        "print(set(shopping_list))\n",
        "\n",
        "\n",
        "#converting the list to a tuple\n",
        "print(tuple(shopping_list))\n",
        "\n",
        "\n",
        "\n",
        "\n"
      ]
    },
    {
      "cell_type": "code",
      "source": [],
      "metadata": {
        "id": "SN4yVMBdlEKB"
      },
      "execution_count": null,
      "outputs": []
    }
  ]
}