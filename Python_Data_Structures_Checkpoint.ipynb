{
  "nbformat": 4,
  "nbformat_minor": 0,
  "metadata": {
    "colab": {
      "provenance": [],
      "authorship_tag": "ABX9TyOFZe//UQe3YgKGoB4sgu9+",
      "include_colab_link": true
    },
    "kernelspec": {
      "name": "python3",
      "display_name": "Python 3"
    },
    "language_info": {
      "name": "python"
    }
  },
  "cells": [
    {
      "cell_type": "markdown",
      "metadata": {
        "id": "view-in-github",
        "colab_type": "text"
      },
      "source": [
        "<a href=\"https://colab.research.google.com/github/collinscolour/GoMyCodeCheckPoint/blob/main/Python_Data_Structures_Checkpoint.ipynb\" target=\"_parent\"><img src=\"https://colab.research.google.com/assets/colab-badge.svg\" alt=\"Open In Colab\"/></a>"
      ]
    },
    {
      "cell_type": "code",
      "execution_count": null,
      "metadata": {
        "id": "GFP1fefm4SRu"
      },
      "outputs": [],
      "source": [
        "shopping_list= []\n",
        "while True:\n",
        "  menu = input(\"Enter your menu: \")\n",
        "  if menu == 'add':\n",
        "    for i in range(3):\n",
        "      new_item= input('enter item you want to add : ')\n",
        "      shopping_list.append(new_item)\n",
        "      print(shopping_list)\n",
        "\n",
        "\n",
        "  elif menu == 'remove':\n",
        "    remove_item= input('enter item you want to remove : ')\n",
        "    shopping_list.remove(remove_item)\n",
        "\n",
        "  elif menu == 'items':\n",
        "    print (shopping_list)\n",
        "\n",
        "\n",
        "\n",
        "  else:\n",
        "    print('incorrect word input ')\n",
        "    break\n",
        "print(shopping_list)\n",
        "\n",
        "print(len(shopping_list))\n",
        "\n",
        "print(set(shopping_list))\n",
        "\n",
        "print(tuple(shopping_list))\n",
        "\n",
        "\n",
        "\n",
        "\n"
      ]
    },
    {
      "cell_type": "code",
      "source": [],
      "metadata": {
        "id": "SN4yVMBdlEKB"
      },
      "execution_count": null,
      "outputs": []
    }
  ]
}