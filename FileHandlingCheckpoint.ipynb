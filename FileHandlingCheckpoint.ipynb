{
  "nbformat": 4,
  "nbformat_minor": 0,
  "metadata": {
    "colab": {
      "provenance": [],
      "authorship_tag": "ABX9TyMvPfUJjQGkOs9x/Jz+C4qx",
      "include_colab_link": true
    },
    "kernelspec": {
      "name": "python3",
      "display_name": "Python 3"
    },
    "language_info": {
      "name": "python"
    }
  },
  "cells": [
    {
      "cell_type": "markdown",
      "metadata": {
        "id": "view-in-github",
        "colab_type": "text"
      },
      "source": [
        "<a href=\"https://colab.research.google.com/github/collinscolour/GoMyCodeCheckPoint/blob/main/FileHandlingCheckpoint.ipynb\" target=\"_parent\"><img src=\"https://colab.research.google.com/assets/colab-badge.svg\" alt=\"Open In Colab\"/></a>"
      ]
    },
    {
      "cell_type": "markdown",
      "source": [
        "Begin by importing the necessary libraries, numpy.\n",
        "Use the open() function to open csv file and assign the result to a variable.\n",
        "Use the numpy array to perform some basic statistical analysis on the data, such as finding the mean, median, and standard deviation of the loan amounts.\n",
        "\n",
        "\n",
        "Note:\n",
        "\n",
        "Be sure to close the file after you have finished reading it in with the open() function.\n",
        "Use the delimiter parameter in the genfromtxt() function to specify that the values in the file are separated by commas.\n",
        "You can use the numpy functions mean(), median(), and std() to find the mean, median, and standard deviation of the loan amounts."
      ],
      "metadata": {
        "id": "h46CI-JHlwkQ"
      }
    },
    {
      "cell_type": "code",
      "execution_count": 4,
      "metadata": {
        "colab": {
          "base_uri": "https://localhost:8080/"
        },
        "id": "KS9g-vkglf6b",
        "outputId": "25edb7f5-9fcf-409a-b28f-62ce3e95ab3c"
      },
      "outputs": [
        {
          "output_type": "stream",
          "name": "stdout",
          "text": [
            "[  0 128  66 120 141 267  95 158 168 349  70 109 200 114  17 125 100  76\n",
            " 133 115 104 315 116 112 151 191 122 110  35 120 201  74 106 114 320   0\n",
            " 100 144 184 110  80  47  75 134  96  88  44 144 120 144 100 120 112 134\n",
            " 286  97  96 135 180 144 120  99 165   0 116 258 126 312 125 136 172  97\n",
            "  81  95 187 113 176 110 180 130 111   0 167 265  50 136  99 104 210 175\n",
            " 131 188  81 122  25   0 137  50 115 131 133 151   0   0 160 100 225 120\n",
            " 216  94 136 139 152   0 118 185 154  85 175 259 180  44 137  81 194  93\n",
            " 370   0 160 182 650  74  70  25 102 290  84  88 242 129 185 168 175 122\n",
            " 187 100  70  30 225 125 118 152 244 113  50 600 160 187 120 255  98 275\n",
            " 121 158  75 182 112 129  63 200  95 700  81 187  87 116 101 495 116 102\n",
            " 180  67  73 260 108 120  66  58 168 188  48 164 160  76 120 170 187 120\n",
            " 113  83  90 166   0 135 124 120  80  55  59 127 214 128 240 130 137 100\n",
            " 135 131  72 127  60 116 144 175 128 170 138 210 158 200 104  42 120 280\n",
            " 140 170 255 122 112  96 120 140 155 108 123 120 112 137 123  90 201 138\n",
            " 104 279 192 255 115  94 304 128 330 134 155 120 128 151 150 160 135  90\n",
            "  30 136 126 150  90 115 207  80 436 124 158 112  78  54   0  89  99 120\n",
            " 115 187 139 127 134 143 172 110 200 135 151 113  93 105 132  96 140   0\n",
            " 135 104 480 185  84 111  56 144 159 111 120  88 112 155 115 124   0 132\n",
            " 300 376 130 184 110  67 117  98  71 490 182  70 160 176   0  71 173  46\n",
            " 158  74 125 160 152 126 259 187 228 308  95 105 130 116 165  67 100 200\n",
            "  81 236 130  95 141 133  96 124 175 570  55 155 380 111 110 120 130 130\n",
            "  71 130 128 296 156 128 100 113 132   0 136 125 185 275 120 113 113 135\n",
            "  71  95 109 103  45  65 103  53 194 115 115  66 152 360  62 160 218 110\n",
            " 178  60 160 239 112 138 138  80 100 110  96 121  81 133  87  60 150 105\n",
            " 405 143 100   0  50   0 187 138 187 180 148 152 175 130 110  55 150 190\n",
            " 125  60 149  90  84  96 118 173 136 160 160 128 153 132  98 140  70 110\n",
            "  98 110 162 113 100  93 162 150 230 132  86   0 154 113 128 234 246 131\n",
            "  80 500 160  75  96 186 110 225 119 105 107 111  95 209 113 100 208 138\n",
            " 124 243 480  96 188  40 100 250 148  70 311 150 113 123 185  95  45  55\n",
            " 100 480   0 400 110 161  94 130 216 100 110 196 125 126 324 107  66 157\n",
            " 140  99  95 128 102 155  80 145 103 110   0   0 158 181 132  26  84 260\n",
            " 162 182 108 600 211 132 258 120  70 123   9 104 186 165 275 187 150 108\n",
            " 136 110 107 161 205  90  36  61 146 172 104  70  94 106  56 205 292 142\n",
            " 260 110 187  88 180 192 350 155 128 172 496   0 173 157 108  71  40 253\n",
            " 187 133]\n"
          ]
        }
      ],
      "source": [
        "#firstly import the numpy libary\n",
        "import numpy as np\n",
        "\n",
        "#import the csv file\n",
        "file_object=open('Loan_prediction_dataset.csv','r')\n",
        "data = np.genfromtxt(file_object, delimiter=',',dtype='str')\n",
        "loan_amount_data = data[1:,8]\n",
        "for x in range(len(loan_amount_data)):\n",
        "  if loan_amount_data[x] =='':\n",
        "    loan_amount_data[x] = 0\n",
        "  else :\n",
        "    loan_amount_data[x]=int(loan_amount_data[x])\n",
        "x=np.array(list(map(int,loan_amount_data)))\n",
        "print(x)"
      ]
    },
    {
      "cell_type": "code",
      "source": [
        "#find the mean\n",
        "\n",
        "find_mean = np.mean(x)\n",
        "\n",
        "\n",
        "#find the median\n",
        "find_median = np.median(x)\n",
        "\n",
        "#find the standard deviation\n",
        "find_standard_deviation = np.std(x)\n",
        "print (\"the mean is :\", find_mean)\n",
        "print (\"the median is :\", find_median)\n",
        "print (\"the standard deviation is :\", find_standard_deviation)"
      ],
      "metadata": {
        "colab": {
          "base_uri": "https://localhost:8080/"
        },
        "id": "56dF7at9xp2S",
        "outputId": "f4b6082d-3616-4bbd-d0e2-b6712e22bdfe"
      },
      "execution_count": 5,
      "outputs": [
        {
          "output_type": "stream",
          "name": "stdout",
          "text": [
            "the mean is : 141.16612377850163\n",
            "the median is : 125.0\n",
            "the standard deviation is : 88.2686624330009\n"
          ]
        }
      ]
    }
  ]
}