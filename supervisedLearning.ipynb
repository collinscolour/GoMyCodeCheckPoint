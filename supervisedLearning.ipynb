{
  "nbformat": 4,
  "nbformat_minor": 0,
  "metadata": {
    "colab": {
      "provenance": [],
      "authorship_tag": "ABX9TyP+xPqhB/M3QN9u3coFt3nh",
      "include_colab_link": true
    },
    "kernelspec": {
      "name": "python3",
      "display_name": "Python 3"
    },
    "language_info": {
      "name": "python"
    }
  },
  "cells": [
    {
      "cell_type": "markdown",
      "metadata": {
        "id": "view-in-github",
        "colab_type": "text"
      },
      "source": [
        "<a href=\"https://colab.research.google.com/github/collinscolour/GoMyCodeCheckPoint/blob/main/supervisedLearning.ipynb\" target=\"_parent\"><img src=\"https://colab.research.google.com/assets/colab-badge.svg\" alt=\"Open In Colab\"/></a>"
      ]
    },
    {
      "cell_type": "markdown",
      "source": [
        "In this checkpoint, you are going to work on the '5G-Energy consumption' dataset that was provided by the international telecommunication union (ITU) in 2023 as part of a global challenge or competition for data scientists all over the world to solve the 5G energy consumption modelling using machine learning techniques.\n",
        "\n",
        "The competition is taking place from 2023-07-05 to 2023-09-30. Fore more information click here.\n",
        "\n",
        "Checkpoint problematic : Network operational expenditure (OPEX) already accounts for around 25 percent of the total telecom operator’s cost, and 90 percent of it is spent on large energy bills. More than 70 percent of this energy is estimated to be consumed by the radio access network (RAN), particularly by the base stations (BSs). Thus, the objective is to build and train a ML model to estimate the energy consumed by different 5G base stations taking into consideration the impact of various engineering configurations, traffic conditions, and energy-saving methods.\n",
        "\n",
        "Dataset description : This dataset is derived from the original copy and simplified for learning purposes. It includes cell-level traffic statistics of 4G/5G sites collected on different days.\n",
        "\n",
        "➡️ Dataset link\n",
        "\n",
        "\n",
        "\n",
        "\n",
        "Instructions\n",
        "Import you data and perform basic data exploration phase\n",
        "Display general information about the dataset\n",
        "Create a pandas profiling reports to gain insights into the dataset\n",
        "Handle Missing and corrupted values\n",
        "Remove duplicates, if they exist\n",
        "Handle outliers, if they exist\n",
        "Encode categorical features\n",
        "\n",
        "Select your target variable and the features\n",
        "\n",
        "Split your dataset to training and test sets\n",
        "\n",
        "Based on your data exploration phase select a ML regression algorithm and train it on the training set\n",
        "\n",
        "Assess your model performance on the test set using relevant evaluation metrics\n",
        "Discuss with your cohort alternative ways to improve your model performance"
      ],
      "metadata": {
        "id": "X7ja9WKIN9iJ"
      }
    },
    {
      "cell_type": "code",
      "execution_count": null,
      "metadata": {
        "id": "G4PQKOjdqrYV"
      },
      "outputs": [],
      "source": []
    }
  ]
}