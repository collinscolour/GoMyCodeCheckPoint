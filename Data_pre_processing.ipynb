{
  "nbformat": 4,
  "nbformat_minor": 0,
  "metadata": {
    "colab": {
      "provenance": [],
      "authorship_tag": "ABX9TyMX8wKKyWNb9+JikDtGNjJ0",
      "include_colab_link": true
    },
    "kernelspec": {
      "name": "python3",
      "display_name": "Python 3"
    },
    "language_info": {
      "name": "python"
    }
  },
  "cells": [
    {
      "cell_type": "markdown",
      "metadata": {
        "id": "view-in-github",
        "colab_type": "text"
      },
      "source": [
        "<a href=\"https://colab.research.google.com/github/collinscolour/GoMyCodeCheckPoint/blob/main/Data_pre_processing.ipynb\" target=\"_parent\"><img src=\"https://colab.research.google.com/assets/colab-badge.svg\" alt=\"Open In Colab\"/></a>"
      ]
    },
    {
      "cell_type": "markdown",
      "source": [
        "In this checkpoint, we are going to work on the billing history of the Tunisian electricity and gas company and apply what you learned in pre-processing chapter.\n",
        "\n",
        "Dataset description :\n",
        "\n",
        "The provided dataset contains the billing history of the Tunisian electricity and gas company's customers from 2005 to 2019.\n",
        "\n",
        "➡️ Dataset link\n",
        "\n",
        "\n",
        "\n",
        "\n",
        "Instructions\n",
        "Load the dataset, display the ten first lines, store the results in a variable called 'client_0_bills'.\n",
        "\n",
        "\n",
        "What is the data type of the 'client_0_bills' variable ?\n",
        "Display the general information of the dataset and try to answer the following questions :\n",
        "\n",
        "\n",
        "How many rows and columns do we have in this dataset ?\n",
        "How many categorical features are present in the dataset ?\n",
        "How much memory space does the dataset consume ?\n",
        "\n",
        "\n",
        "Inspect the dataset for potential missing values.\n",
        "Select your strategy to handle missing values, and tell us why you had made that choice.\n",
        "\n",
        "\n",
        "Run a descriptive analysis on numeric features (columns).\n",
        "Select the bills records for the client with an id ='train_Client_0', using 2 methods.\n",
        "\n",
        "\n",
        "Transform the 'counter_type' feature to a numeric variable using the encoder of your choice.\n",
        "Delete the 'counter_statue' feature from the Dataframe"
      ],
      "metadata": {
        "id": "tTbEDnYTtxi2"
      }
    },
    {
      "cell_type": "code",
      "source": [
        "#find category featured\n",
        "categ= df.select_dtypes(include=['object', 'category']).columns\n",
        "total_categ = len(categ)\n",
        "print('Total category featured:', total_categ)\n",
        "\n",
        "#total size\n",
        "size = df.memory_usage().sum()\n",
        "print(\"Total memory usage:\", size)"
      ],
      "metadata": {
        "colab": {
          "base_uri": "https://localhost:8080/"
        },
        "id": "ijIQyhXhyEsi",
        "outputId": "7c7a21cc-c52f-44a9-f13c-ab51dd4bd7ef"
      },
      "execution_count": 18,
      "outputs": [
        {
          "output_type": "stream",
          "name": "stdout",
          "text": [
            "Total category featured: 3\n",
            "Total memory usage: 75790208\n"
          ]
        }
      ]
    },
    {
      "cell_type": "code",
      "execution_count": null,
      "metadata": {
        "id": "ABOWI0tCteT1"
      },
      "outputs": [],
      "source": [
        "#first import pandas\n",
        "import pandas as pd\n",
        "\n",
        "#import csv file\n",
        "df= pd.read_csv('STEG_BILLING_HISTORY.csv')\n",
        "\n",
        "#to get the first 10 rows\n",
        "client_0_bills = df.head(10)\n",
        "print(client_0_bills)\n",
        "\n",
        "#to get the datatype\n",
        "x = type(client_0_bills)\n",
        "print(x)"
      ]
    },
    {
      "cell_type": "code",
      "source": [
        "df= pd.read_csv('STEG_BILLING_HISTORY.csv')\n",
        "# Get the number of rows and columns\n",
        "num_rows = df.shape[0]\n",
        "num_columns = df.shape[1]\n",
        "\n",
        "print(\"Number of rows:\", num_rows)\n",
        "print(\"Number of columns:\", num_columns)\n",
        "col = len(df.columns)\n",
        "print(col)\n",
        "\n",
        "ros = len(df)\n",
        "print(ros)"
      ],
      "metadata": {
        "colab": {
          "base_uri": "https://localhost:8080/"
        },
        "id": "9tDfv7211SmN",
        "outputId": "27a39613-0f80-457a-f8d5-94d9526af9dd"
      },
      "execution_count": 14,
      "outputs": [
        {
          "output_type": "stream",
          "name": "stdout",
          "text": [
            "Number of rows: 592110\n",
            "Number of columns: 16\n",
            "16\n",
            "592110\n"
          ]
        }
      ]
    }
  ]
}