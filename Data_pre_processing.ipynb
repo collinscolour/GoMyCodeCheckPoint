{
  "nbformat": 4,
  "nbformat_minor": 0,
  "metadata": {
    "colab": {
      "provenance": [],
      "authorship_tag": "ABX9TyNWT+W0DnjXv7EH03Pg3YSE",
      "include_colab_link": true
    },
    "kernelspec": {
      "name": "python3",
      "display_name": "Python 3"
    },
    "language_info": {
      "name": "python"
    }
  },
  "cells": [
    {
      "cell_type": "markdown",
      "metadata": {
        "id": "view-in-github",
        "colab_type": "text"
      },
      "source": [
        "<a href=\"https://colab.research.google.com/github/collinscolour/GoMyCodeCheckPoint/blob/main/Data_pre_processing.ipynb\" target=\"_parent\"><img src=\"https://colab.research.google.com/assets/colab-badge.svg\" alt=\"Open In Colab\"/></a>"
      ]
    },
    {
      "cell_type": "markdown",
      "source": [
        "In this checkpoint, we are going to work on the billing history of the Tunisian electricity and gas company and apply what you learned in pre-processing chapter.\n",
        "\n",
        "Dataset description :\n",
        "\n",
        "The provided dataset contains the billing history of the Tunisian electricity and gas company's customers from 2005 to 2019.\n",
        "\n",
        "➡️ Dataset link\n",
        "\n",
        "\n",
        "\n",
        "\n",
        "Instructions\n",
        "Load the dataset, display the ten first lines, store the results in a variable called 'client_0_bills'.\n",
        "\n",
        "\n",
        "What is the data type of the 'client_0_bills' variable ?\n",
        "Display the general information of the dataset and try to answer the following questions :\n",
        "\n",
        "\n",
        "How many rows and columns do we have in this dataset ?\n",
        "How many categorical features are present in the dataset ?\n",
        "How much memory space does the dataset consume ?\n",
        "\n",
        "\n",
        "Inspect the dataset for potential missing values.\n",
        "Select your strategy to handle missing values, and tell us why you had made that choice.\n",
        "\n",
        "\n",
        "Run a descriptive analysis on numeric features (columns).\n",
        "Select the bills records for the client with an id ='train_Client_0', using 2 methods.\n",
        "\n",
        "\n",
        "Transform the 'counter_type' feature to a numeric variable using the encoder of your choice.\n",
        "Delete the 'counter_statue' feature from the Dataframe"
      ],
      "metadata": {
        "id": "tTbEDnYTtxi2"
      }
    },
    {
      "cell_type": "code",
      "execution_count": null,
      "metadata": {
        "id": "ABOWI0tCteT1"
      },
      "outputs": [],
      "source": []
    }
  ]
}