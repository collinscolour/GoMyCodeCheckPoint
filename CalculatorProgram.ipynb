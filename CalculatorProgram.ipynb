{
  "nbformat": 4,
  "nbformat_minor": 0,
  "metadata": {
    "colab": {
      "provenance": [],
      "authorship_tag": "ABX9TyMNABI5LY5w/sDAvUfv5a0M",
      "include_colab_link": true
    },
    "kernelspec": {
      "name": "python3",
      "display_name": "Python 3"
    },
    "language_info": {
      "name": "python"
    }
  },
  "cells": [
    {
      "cell_type": "markdown",
      "metadata": {
        "id": "view-in-github",
        "colab_type": "text"
      },
      "source": [
        "<a href=\"https://colab.research.google.com/github/collinscolour/GoMyCodeCheckPoint/blob/main/CalculatorProgram.ipynb\" target=\"_parent\"><img src=\"https://colab.research.google.com/assets/colab-badge.svg\" alt=\"Open In Colab\"/></a>"
      ]
    },
    {
      "cell_type": "markdown",
      "source": [
        "\n",
        "In this exercise, you will expand on the basic calculator program by adding more advanced mathematical operations and error handling using object-oriented programming.\n",
        "\n",
        "\n",
        "\n",
        "Instructions\n",
        "\n",
        "\n",
        "Create a new file called \"calculator_2.0.py\"\n",
        "Create a class called \"Calculator\" that contains the following:\n",
        "A dictionary attribute to store the available mathematical operations and their corresponding functions\n",
        "\n",
        "\n",
        "A method called \"init\" that initializes the dictionary with the basic mathematical operations (+, -, *, /) and corresponding functions\n",
        "A method called \"add_operation\" that takes in two arguments: the operation symbol and the corresponding function. This method should add the new operation and function to the dictionary.\n",
        "\n",
        "\n",
        "A method called \"calculate\" that takes in three arguments: the first number, the operation symbol, and the second number. This method should use the dictionary to determine the appropriate function to perform the calculation. It should also include error handling to check if the operation symbol is valid and if the input values are numbers. If an error is encountered, the method should print an error message and raise an exception.\n",
        "\n",
        "\n",
        "\n",
        "Create separate functions for the advanced mathematical operations (exponentiation, square root, logarithm) and use the \"add_operation\" method to add them to the calculator's dictionary.\n",
        "In the main program, create an instance of the Calculator class, and use a while loop that allows the user to continue performing calculations until they choose to exit.\n",
        "Use the input() function to get input from the user for the numbers and operation symbol.Use the math library for advanced mathematical operations\n",
        "Use the isinstance() function to check if the input is a number."
      ],
      "metadata": {
        "id": "w4s67CqD6gBc"
      }
    },
    {
      "cell_type": "code",
      "execution_count": 91,
      "metadata": {
        "id": "irg-ZfNT6WXW"
      },
      "outputs": [],
      "source": [
        "class Calculator:\n",
        "\n",
        "  def __init__(self):\n",
        "        self.operations = {\n",
        "            '+': self.add,\n",
        "            '-': self.subtract,\n",
        "            '*': self.multiply,\n",
        "            '/': self.divide\n",
        "        }\n",
        "\n",
        "  def add(self, num1, num2):\n",
        "    return num1 + num2\n",
        "\n",
        "  def subtract(self,num1, num2):\n",
        "    return num1 - num2\n",
        "\n",
        "  def multiply(self,num1, num2):\n",
        "    return num1 * num2\n",
        "\n",
        "  def divide(self,num1, num2):\n",
        "    return num1 / num2\n",
        "\n",
        "\n",
        "\n",
        "\n",
        "  def add_operation(self, operation_symbol, operation_function):\n",
        "    self.operations[operation_symbol] = operation_function\n",
        "\n",
        "\n",
        "\n",
        "\n",
        "  def calculator(self, num1 , operator, num2):\n",
        "    while True:\n",
        "      if not isinstance(num1, (int, float)):\n",
        "        raise TypeError(\"First input must be a number.\")\n",
        "\n",
        "      if operator not in self.operations.keys():\n",
        "          raise ValueError(\"Invalid operation symbol.\")\n",
        "\n",
        "      if not isinstance(num2, (int, float)):\n",
        "          raise TypeError(\"Second input must be a number.\")\n",
        "\n",
        "      try:\n",
        "        # # Prompt the user to input the first number\n",
        "        # num1 = float(input(\"enter number\"))\n",
        "\n",
        "\n",
        "        # # Prompt the user to input operation\n",
        "        # operation_symbol = input('enter operator (+, -, *, /): ')\n",
        "        calculation_function = self.operations[operator]\n",
        "\n",
        "        # # Prompt the user to input the second number\n",
        "        # num2 = float(input(\"enter number\"))\n",
        "\n",
        "        answerss = calculation_function(num1, num2)\n",
        "\n",
        "        answer= int(answerss)\n",
        "\n",
        "        print(f\"{num1} {operator} {num2} = {answer}\")\n",
        "\n",
        "      # checking for value errors\n",
        "      except ValueError as e:\n",
        "        print(e)\n",
        "\n",
        "      # checking for type errors\n",
        "      except TypeError as e:\n",
        "        print(e)\n",
        "\n",
        "      choice = input(\"Continue (y/n)? \")\n",
        "      if choice != \"y\":\n",
        "        break\n",
        "      else:\n",
        "        num1= answer\n",
        "        operator = input('enter operator (+, -, *, /, ^, √, log): ')\n",
        "        if operator == '^' or operator == '√' or operator =='log':\n",
        "          num = answer\n",
        "        else:\n",
        "          num2= float(input('enter another number'))\n",
        "\n",
        "\n",
        "my_calculator=Calculator()\n"
      ]
    },
    {
      "cell_type": "code",
      "source": [
        "import math\n",
        "\n",
        "def exponentiation(self, num):\n",
        "  return num * num\n",
        "\n",
        "def square_root(self, num):\n",
        "  return num / num\n",
        "\n",
        "def logarithm(self, num):\n",
        "    if num <= 0:\n",
        "      raise ValueError(\"Argument must be positive.\")\n",
        "    return math.log(num)\n",
        "\n",
        "my_calculator.add_operation('^', exponentiation )\n",
        "my_calculator.add_operation('√', square_root)\n",
        "my_calculator.add_operation('log', logarithm)\n",
        "\n",
        ""
      ],
      "metadata": {
        "id": "j6wKLLGCvL41"
      },
      "execution_count": 92,
      "outputs": []
    },
    {
      "cell_type": "code",
      "source": [
        "\n",
        "my_calculator.calculator(4,'*', 4)"
      ],
      "metadata": {
        "colab": {
          "base_uri": "https://localhost:8080/"
        },
        "id": "IKEqM6SMw9t3",
        "outputId": "455abff4-736b-4117-dfd5-daab27f3dc25"
      },
      "execution_count": 93,
      "outputs": [
        {
          "name": "stdout",
          "output_type": "stream",
          "text": [
            "4 * 4 = 16\n",
            "Continue (y/n)? y\n",
            "enter operator (+, -, *, /, ^, √, log): +\n",
            "enter another number2\n",
            "16 + 2.0 = 18\n",
            "Continue (y/n)? y\n",
            "enter operator (+, -, *, /, ^, √, log): √\n",
            "18 √ 2.0 = 1\n",
            "Continue (y/n)? n\n"
          ]
        }
      ]
    }
  ]
}