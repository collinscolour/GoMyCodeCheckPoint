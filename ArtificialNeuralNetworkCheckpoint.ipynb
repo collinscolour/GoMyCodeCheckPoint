{
  "nbformat": 4,
  "nbformat_minor": 0,
  "metadata": {
    "colab": {
      "provenance": [],
      "authorship_tag": "ABX9TyMSxO+5Y88Nh1YakoQPWJdE",
      "include_colab_link": true
    },
    "kernelspec": {
      "name": "python3",
      "display_name": "Python 3"
    },
    "language_info": {
      "name": "python"
    }
  },
  "cells": [
    {
      "cell_type": "markdown",
      "metadata": {
        "id": "view-in-github",
        "colab_type": "text"
      },
      "source": [
        "<a href=\"https://colab.research.google.com/github/collinscolour/GoMyCodeCheckPoint/blob/main/ArtificialNeuralNetworkCheckpoint.ipynb\" target=\"_parent\"><img src=\"https://colab.research.google.com/assets/colab-badge.svg\" alt=\"Open In Colab\"/></a>"
      ]
    },
    {
      "cell_type": "markdown",
      "source": [
        "What You're Aiming For\n",
        "\n",
        "In this practical, we will implement and train a feed-forward neural network (also known as an \"MLP\" for \"multi-layer perceptron\") on a dataset called \"Fashion MNIST\", which consist of small greyscale images of items of fashion.\n",
        "\n",
        "\n",
        "Instructions\n",
        "\n",
        "Follow the steps In this Jupyter  file.\n",
        "Replace instances of 'None' and \"Code Here\"with your code.\n",
        "Please make sure it's a public shareable link."
      ],
      "metadata": {
        "id": "uHNKzqwZXkoM"
      }
    },
    {
      "cell_type": "code",
      "execution_count": null,
      "metadata": {
        "id": "YcYiQYVUXhOY"
      },
      "outputs": [],
      "source": []
    }
  ]
}