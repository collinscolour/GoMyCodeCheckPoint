{
  "nbformat": 4,
  "nbformat_minor": 0,
  "metadata": {
    "colab": {
      "provenance": [],
      "authorship_tag": "ABX9TyMUavgmBgaxmHbcQISL2Rxc",
      "include_colab_link": true
    },
    "kernelspec": {
      "name": "python3",
      "display_name": "Python 3"
    },
    "language_info": {
      "name": "python"
    }
  },
  "cells": [
    {
      "cell_type": "markdown",
      "metadata": {
        "id": "view-in-github",
        "colab_type": "text"
      },
      "source": [
        "<a href=\"https://colab.research.google.com/github/collinscolour/GoMyCodeCheckPoint/blob/main/PythonFunctionsCheckpoint.ipynb\" target=\"_parent\"><img src=\"https://colab.research.google.com/assets/colab-badge.svg\" alt=\"Open In Colab\"/></a>"
      ]
    },
    {
      "cell_type": "markdown",
      "source": [
        "Create a calculator program that allows the user to perform mathematical operations on two numbers using basic functions and a dictionary to store the operations. The program should also have the ability to continue calculations with the result of previous calculations.\n",
        "\n",
        "Instructions\n",
        "Create four basic mathematical functions: 'add', 'subtract', 'multiply', and 'divide' that take in two numbers and return the result of the operation.\n",
        "Create a dictionary 'operations' that assigns the functions to their corresponding operation symbols.\n",
        "Create a function 'calculator' that prompts the user to input the first number.\n",
        "Use a for loop to print the available operation symbols.\n",
        "Create a while loop that will continue to run until the user chooses to end the current calculation.\n",
        "Inside the while loop, prompt the user to select an operation symbol.\n",
        "Prompt the user to input the second number.\n",
        "Use the dictionary to retrieve the function that corresponds to the selected operation symbol and store it in a variable 'calculation_function'\n",
        "Perform the calculation by calling the 'calculation_function' on the two input numbers and store the result in a variable 'answer'.\n",
        "Print the equation and the result of the calculation.\n",
        "Ask the user if they would like to continue using the result as the first number for further calculations.\n",
        "If the user chooses to continue, update the 'num1' variable to the value of 'answer'.\n",
        "If the user chooses to start a new calculation, set the 'should_continue' variable to false and call the 'calculator' function to start a new calculation.\n",
        "Note: Make sure to test the program with different inputs and operations to ensure that it is functioning properly.\n",
        "\n",
        "Evaluation Specifics\n",
        "\n",
        "Your instructor will evaluate your checkpoint based on the criterias mentioned below. All criteria are rated from 0 to 5\n",
        "\n",
        " Checkpoint Criteria\n",
        "\n",
        "Student should ensure that the program is able to perform basic mathematical operations such as addition, subtraction, multiplication, and division.\n",
        "Student should ensure that the program uses a dictionary to store the operations and that the corresponding mathematical functions are assigned to their respective operation symbols.\n",
        "Student should ensure that the program allows the user to continue calculations with the result of previous calculations and that the result is stored in a variable that can be used in subsequent calculations."
      ],
      "metadata": {
        "id": "B8WwobUx1FQ2"
      }
    },
    {
      "cell_type": "code",
      "execution_count": null,
      "metadata": {
        "id": "bVvmwXRQxmzp"
      },
      "outputs": [],
      "source": [
        "def add(num1, num2):\n",
        "  return num1 + num2\n",
        "\n",
        "def subtract(num1, num2):\n",
        "  return num1 - num2\n",
        "\n",
        "def multiply(num1, num2):\n",
        "  return num1 * num2\n",
        "\n",
        "def divide(num1, num2):\n",
        "  return num1 / num2\n",
        "\n",
        "operations = {\"+\": add, \"-\": subtract,\"*\": multiply, \"/\": divide}\n",
        "\n",
        "def caculator():\n",
        "  # Prompt the user to input the first number\n",
        "  num1 = int(input(\"enter number\"))\n",
        "  for operator in operations.Keys():\n",
        "    should_continue = True\n",
        "    while should_continue:\n",
        "      # Prompt the user to input operation\n",
        "      operator = input('enter operator: ')\n",
        "      calculation_function = operations[operator]\n",
        "      # Prompt the user to input the second number\n",
        "      num2 = int(input(\"enter number\"))\n",
        "      answer = calculation_function(num1, num2)\n",
        "      print(answer)\n",
        "\n",
        "      # Ask the user if they would like to continue\n",
        "      continue_prompt = input('Continue using the result as the first number? (y/n): ')\n",
        "      if continue_prompt == 'y':\n",
        "        num1 = answer\n",
        "      else:\n",
        "        # Set the should_continue variable to false to end the current calculation.\n",
        "        should_continue = False\n",
        "caculator()"
      ]
    },
    {
      "cell_type": "code",
      "source": [
        "operations = {\"+\": add, \"-\": subtract,\"*\": multiply, \"/\": divide}\n",
        "def calculator():\n",
        "  # Prompt the user to input the first number\n",
        "  num1 = int(input(\"Enter number1: \"))\n",
        "\n",
        "  for operator in operations.keys():\n",
        "    should_continue = True\n",
        "    while should_continue:\n",
        "      # Prompt the user to input operation\n",
        "      operator = input('Enter operator: ')\n",
        "\n",
        "      try:\n",
        "        calculation_function = operations[operator]\n",
        "        # Prompt the user to input the second number\n",
        "        num2 = int(input(\"Enter number2: \"))\n",
        "        answer = calculation_function(num1, num2)\n",
        "      except Exception as e:\n",
        "        print(e)\n",
        "        continue\n",
        "\n",
        "      print(answer)\n",
        "\n",
        "      # Ask the user if they would like to continue\n",
        "      continue_prompt = input('Continue using the result as the first number? (yes/no): ')\n",
        "      if continue_prompt == 'yes':\n",
        "        num1 = answer\n",
        "      else:\n",
        "        # Set the should_continue variable to false to end the current calculation.\n",
        "        should_continue = False\n",
        "      break\n",
        "      print('this is your final answer : ', answer)\n",
        "\n",
        "\n",
        "calculator()"
      ],
      "metadata": {
        "colab": {
          "base_uri": "https://localhost:8080/",
          "height": 512
        },
        "id": "RmSqXfgV60xD",
        "outputId": "11d9cd00-9df2-47ca-d49c-7943223fec15"
      },
      "execution_count": 10,
      "outputs": [
        {
          "name": "stdout",
          "output_type": "stream",
          "text": [
            "Enter number1: 2\n",
            "Enter operator: +\n",
            "Enter number2: 2\n",
            "4\n",
            "Continue using the result as the first number? (yes/no): yes\n",
            "Enter operator: *\n",
            "Enter number2: 4\n",
            "16\n",
            "Continue using the result as the first number? (yes/no): no\n"
          ]
        },
        {
          "output_type": "error",
          "ename": "KeyboardInterrupt",
          "evalue": "ignored",
          "traceback": [
            "\u001b[0;31m---------------------------------------------------------------------------\u001b[0m",
            "\u001b[0;31mKeyboardInterrupt\u001b[0m                         Traceback (most recent call last)",
            "\u001b[0;32m<ipython-input-10-0242b3134ddd>\u001b[0m in \u001b[0;36m<cell line: 34>\u001b[0;34m()\u001b[0m\n\u001b[1;32m     32\u001b[0m \u001b[0;34m\u001b[0m\u001b[0m\n\u001b[1;32m     33\u001b[0m \u001b[0;34m\u001b[0m\u001b[0m\n\u001b[0;32m---> 34\u001b[0;31m \u001b[0mcalculator\u001b[0m\u001b[0;34m(\u001b[0m\u001b[0;34m)\u001b[0m\u001b[0;34m\u001b[0m\u001b[0;34m\u001b[0m\u001b[0m\n\u001b[0m",
            "\u001b[0;32m<ipython-input-10-0242b3134ddd>\u001b[0m in \u001b[0;36mcalculator\u001b[0;34m()\u001b[0m\n\u001b[1;32m      8\u001b[0m     \u001b[0;32mwhile\u001b[0m \u001b[0mshould_continue\u001b[0m\u001b[0;34m:\u001b[0m\u001b[0;34m\u001b[0m\u001b[0;34m\u001b[0m\u001b[0m\n\u001b[1;32m      9\u001b[0m       \u001b[0;31m# Prompt the user to input operation\u001b[0m\u001b[0;34m\u001b[0m\u001b[0;34m\u001b[0m\u001b[0m\n\u001b[0;32m---> 10\u001b[0;31m       \u001b[0moperator\u001b[0m \u001b[0;34m=\u001b[0m \u001b[0minput\u001b[0m\u001b[0;34m(\u001b[0m\u001b[0;34m'Enter operator: '\u001b[0m\u001b[0;34m)\u001b[0m\u001b[0;34m\u001b[0m\u001b[0;34m\u001b[0m\u001b[0m\n\u001b[0m\u001b[1;32m     11\u001b[0m \u001b[0;34m\u001b[0m\u001b[0m\n\u001b[1;32m     12\u001b[0m       \u001b[0;32mtry\u001b[0m\u001b[0;34m:\u001b[0m\u001b[0;34m\u001b[0m\u001b[0;34m\u001b[0m\u001b[0m\n",
            "\u001b[0;32m/usr/local/lib/python3.10/dist-packages/ipykernel/kernelbase.py\u001b[0m in \u001b[0;36mraw_input\u001b[0;34m(self, prompt)\u001b[0m\n\u001b[1;32m    849\u001b[0m                 \u001b[0;34m\"raw_input was called, but this frontend does not support input requests.\"\u001b[0m\u001b[0;34m\u001b[0m\u001b[0;34m\u001b[0m\u001b[0m\n\u001b[1;32m    850\u001b[0m             )\n\u001b[0;32m--> 851\u001b[0;31m         return self._input_request(str(prompt),\n\u001b[0m\u001b[1;32m    852\u001b[0m             \u001b[0mself\u001b[0m\u001b[0;34m.\u001b[0m\u001b[0m_parent_ident\u001b[0m\u001b[0;34m,\u001b[0m\u001b[0;34m\u001b[0m\u001b[0;34m\u001b[0m\u001b[0m\n\u001b[1;32m    853\u001b[0m             \u001b[0mself\u001b[0m\u001b[0;34m.\u001b[0m\u001b[0m_parent_header\u001b[0m\u001b[0;34m,\u001b[0m\u001b[0;34m\u001b[0m\u001b[0;34m\u001b[0m\u001b[0m\n",
            "\u001b[0;32m/usr/local/lib/python3.10/dist-packages/ipykernel/kernelbase.py\u001b[0m in \u001b[0;36m_input_request\u001b[0;34m(self, prompt, ident, parent, password)\u001b[0m\n\u001b[1;32m    893\u001b[0m             \u001b[0;32mexcept\u001b[0m \u001b[0mKeyboardInterrupt\u001b[0m\u001b[0;34m:\u001b[0m\u001b[0;34m\u001b[0m\u001b[0;34m\u001b[0m\u001b[0m\n\u001b[1;32m    894\u001b[0m                 \u001b[0;31m# re-raise KeyboardInterrupt, to truncate traceback\u001b[0m\u001b[0;34m\u001b[0m\u001b[0;34m\u001b[0m\u001b[0m\n\u001b[0;32m--> 895\u001b[0;31m                 \u001b[0;32mraise\u001b[0m \u001b[0mKeyboardInterrupt\u001b[0m\u001b[0;34m(\u001b[0m\u001b[0;34m\"Interrupted by user\"\u001b[0m\u001b[0;34m)\u001b[0m \u001b[0;32mfrom\u001b[0m \u001b[0;32mNone\u001b[0m\u001b[0;34m\u001b[0m\u001b[0;34m\u001b[0m\u001b[0m\n\u001b[0m\u001b[1;32m    896\u001b[0m             \u001b[0;32mexcept\u001b[0m \u001b[0mException\u001b[0m \u001b[0;32mas\u001b[0m \u001b[0me\u001b[0m\u001b[0;34m:\u001b[0m\u001b[0;34m\u001b[0m\u001b[0;34m\u001b[0m\u001b[0m\n\u001b[1;32m    897\u001b[0m                 \u001b[0mself\u001b[0m\u001b[0;34m.\u001b[0m\u001b[0mlog\u001b[0m\u001b[0;34m.\u001b[0m\u001b[0mwarning\u001b[0m\u001b[0;34m(\u001b[0m\u001b[0;34m\"Invalid Message:\"\u001b[0m\u001b[0;34m,\u001b[0m \u001b[0mexc_info\u001b[0m\u001b[0;34m=\u001b[0m\u001b[0;32mTrue\u001b[0m\u001b[0;34m)\u001b[0m\u001b[0;34m\u001b[0m\u001b[0;34m\u001b[0m\u001b[0m\n",
            "\u001b[0;31mKeyboardInterrupt\u001b[0m: Interrupted by user"
          ]
        }
      ]
    }
  ]
}