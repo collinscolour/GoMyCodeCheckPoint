{
  "nbformat": 4,
  "nbformat_minor": 0,
  "metadata": {
    "colab": {
      "provenance": [],
      "authorship_tag": "ABX9TyNSHEQTIWSctGUf/Yt7E2IN",
      "include_colab_link": true
    },
    "kernelspec": {
      "name": "python3",
      "display_name": "Python 3"
    },
    "language_info": {
      "name": "python"
    }
  },
  "cells": [
    {
      "cell_type": "markdown",
      "metadata": {
        "id": "view-in-github",
        "colab_type": "text"
      },
      "source": [
        "<a href=\"https://colab.research.google.com/github/collinscolour/GoMyCodeCheckPoint/blob/main/PythonFunctionsCheckpoint.ipynb\" target=\"_parent\"><img src=\"https://colab.research.google.com/assets/colab-badge.svg\" alt=\"Open In Colab\"/></a>"
      ]
    },
    {
      "cell_type": "markdown",
      "source": [
        "Create a calculator program that allows the user to perform mathematical operations on two numbers using basic functions and a dictionary to store the operations. The program should also have the ability to continue calculations with the result of previous calculations.\n",
        "\n",
        "Instructions\n",
        "Create four basic mathematical functions: 'add', 'subtract', 'multiply', and 'divide' that take in two numbers and return the result of the operation.\n",
        "Create a dictionary 'operations' that assigns the functions to their corresponding operation symbols.\n",
        "Create a function 'calculator' that prompts the user to input the first number.\n",
        "Use a for loop to print the available operation symbols.\n",
        "Create a while loop that will continue to run until the user chooses to end the current calculation.\n",
        "Inside the while loop, prompt the user to select an operation symbol.\n",
        "Prompt the user to input the second number.\n",
        "Use the dictionary to retrieve the function that corresponds to the selected operation symbol and store it in a variable 'calculation_function'\n",
        "Perform the calculation by calling the 'calculation_function' on the two input numbers and store the result in a variable 'answer'.\n",
        "Print the equation and the result of the calculation.\n",
        "Ask the user if they would like to continue using the result as the first number for further calculations.\n",
        "If the user chooses to continue, update the 'num1' variable to the value of 'answer'.\n",
        "If the user chooses to start a new calculation, set the 'should_continue' variable to false and call the 'calculator' function to start a new calculation.\n",
        "Note: Make sure to test the program with different inputs and operations to ensure that it is functioning properly.\n",
        "\n",
        "Evaluation Specifics\n",
        "\n",
        "Your instructor will evaluate your checkpoint based on the criterias mentioned below. All criteria are rated from 0 to 5\n",
        "\n",
        " Checkpoint Criteria\n",
        "\n",
        "Student should ensure that the program is able to perform basic mathematical operations such as addition, subtraction, multiplication, and division.\n",
        "Student should ensure that the program uses a dictionary to store the operations and that the corresponding mathematical functions are assigned to their respective operation symbols.\n",
        "Student should ensure that the program allows the user to continue calculations with the result of previous calculations and that the result is stored in a variable that can be used in subsequent calculations."
      ],
      "metadata": {
        "id": "B8WwobUx1FQ2"
      }
    },
    {
      "cell_type": "code",
      "execution_count": 5,
      "metadata": {
        "id": "bVvmwXRQxmzp",
        "colab": {
          "base_uri": "https://localhost:8080/"
        },
        "outputId": "8b41ec0e-5fa3-4fc0-ca52-1c5e8db91105"
      },
      "outputs": [
        {
          "name": "stdout",
          "output_type": "stream",
          "text": [
            "enter number5\n",
            "enter operator: -\n",
            "enter number3\n",
            "2\n",
            "Continue using the result as the first number? (y/n): n\n"
          ]
        }
      ],
      "source": [
        "def add(num1, num2):\n",
        "  return num1 + num2\n",
        "\n",
        "def subtract(num1, num2):\n",
        "  return num1 - num2\n",
        "\n",
        "def multiply(num1, num2):\n",
        "  return num1 * num2\n",
        "\n",
        "def divide(num1, num2):\n",
        "  return num1 / num2\n",
        "\n",
        "operations = {\"+\": add, \"-\": subtract,\"*\": multiply, \"/\": divide}\n",
        "\n",
        "def caculator():\n",
        "  # Prompt the user to input the first number\n",
        "  num1 = int(input(\"enter number\"))\n",
        "  should_continue = True\n",
        "  for operator in operations.keys():\n",
        "    while should_continue:\n",
        "      # Prompt the user to input operation\n",
        "      operator = input('enter operator: ')\n",
        "      calculation_function = operations[operator]\n",
        "      # Prompt the user to input the second number\n",
        "      num2 = int(input(\"enter number\"))\n",
        "      answer = calculation_function(num1, num2)\n",
        "      print(answer)\n",
        "\n",
        "      # Ask the user if they would like to continue\n",
        "      continue_prompt = input('Continue using the result as the first number? (y/n): ')\n",
        "      if continue_prompt == 'y':\n",
        "        num1 = answer\n",
        "      else:\n",
        "        # Set the should_continue variable to false to end the current calculation.\n",
        "        should_continue = False\n",
        "caculator()"
      ]
    },
    {
      "cell_type": "code",
      "source": [
        "operations = {\"+\": add, \"-\": subtract,\"*\": multiply, \"/\": divide}\n",
        "def calculator():\n",
        "  # Prompt the user to input the first number\n",
        "  num1 = int(input(\"Enter number1: \"))\n",
        "  should_continue = True\n",
        "  for operator in operations.keys():\n",
        "\n",
        "    while should_continue:\n",
        "      # Prompt the user to input operation\n",
        "      operator = input('Enter operator: (+,-,*,/) ')\n",
        "\n",
        "      try:\n",
        "        calculation_function = operations[operator]\n",
        "        # Prompt the user to input the second number\n",
        "        num2 = int(input(\"Enter number2: \"))\n",
        "        answer = calculation_function(num1, num2)\n",
        "      except Exception as e:\n",
        "        print(e)\n",
        "        continue\n",
        "\n",
        "      print(answer)\n",
        "\n",
        "      # Ask the user if they would like to continue\n",
        "      continue_prompt = input('Continue using the result as the first number? (yes/no): ')\n",
        "      if continue_prompt == 'yes':\n",
        "        num1 = answer\n",
        "      else:\n",
        "        # Set the should_continue variable to false to end the current calculation.\n",
        "        should_continue = False\n",
        "      break\n",
        "      print('this is your final answer : ', answer)\n",
        "\n",
        "\n",
        "calculator()"
      ],
      "metadata": {
        "id": "RmSqXfgV60xD",
        "colab": {
          "base_uri": "https://localhost:8080/"
        },
        "outputId": "f897db34-102d-4e20-db8b-5d48ce2f5c83"
      },
      "execution_count": 6,
      "outputs": [
        {
          "name": "stdout",
          "output_type": "stream",
          "text": [
            "Enter number1: 1\n",
            "Enter operator: (+,-,*,/) *\n",
            "Enter number2: 8\n",
            "8\n",
            "Continue using the result as the first number? (yes/no): yes\n",
            "Enter operator: (+,-,*,/) +\n",
            "Enter number2: 2\n",
            "10\n",
            "Continue using the result as the first number? (yes/no): no\n"
          ]
        }
      ]
    }
  ]
}